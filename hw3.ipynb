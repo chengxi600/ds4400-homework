{
 "cells": [
  {
   "cell_type": "code",
   "execution_count": 163,
   "id": "335df4e1",
   "metadata": {},
   "outputs": [],
   "source": [
    "import numpy as np\n",
    "from sklearn.model_selection import train_test_split\n",
    "from sklearn.preprocessing import StandardScaler\n",
    "from sklearn.linear_model import LogisticRegression\n",
    "from sklearn.metrics import confusion_matrix, log_loss\n",
    "from sklearn.discriminant_analysis import LinearDiscriminantAnalysis\n",
    "from sklearn.neighbors import KNeighborsClassifier\n",
    "from sklearn.model_selection import KFold\n",
    "from sklearn import metrics\n",
    "from sklearn.base import clone\n",
    "import pandas as pd\n",
    "import math"
   ]
  },
  {
   "cell_type": "markdown",
   "id": "3ff92b87",
   "metadata": {},
   "source": [
    "Preprocessing data"
   ]
  },
  {
   "cell_type": "code",
   "execution_count": 164,
   "id": "036414ef",
   "metadata": {},
   "outputs": [],
   "source": [
    "with open('spambase/spambase.data') as f:\n",
    "    raw_data = f.readlines()"
   ]
  },
  {
   "cell_type": "code",
   "execution_count": 165,
   "id": "6dcc3d23",
   "metadata": {},
   "outputs": [],
   "source": [
    "data_arr = np.array([row.strip('\\n').split(',') for row in raw_data]).astype('float')"
   ]
  },
  {
   "cell_type": "code",
   "execution_count": 166,
   "id": "f29967a3",
   "metadata": {},
   "outputs": [
    {
     "data": {
      "text/plain": [
       "array([[0.000e+00, 6.400e-01, 6.400e-01, ..., 6.100e+01, 2.780e+02,\n",
       "        1.000e+00],\n",
       "       [2.100e-01, 2.800e-01, 5.000e-01, ..., 1.010e+02, 1.028e+03,\n",
       "        1.000e+00],\n",
       "       [6.000e-02, 0.000e+00, 7.100e-01, ..., 4.850e+02, 2.259e+03,\n",
       "        1.000e+00],\n",
       "       ...,\n",
       "       [3.000e-01, 0.000e+00, 3.000e-01, ..., 6.000e+00, 1.180e+02,\n",
       "        0.000e+00],\n",
       "       [9.600e-01, 0.000e+00, 0.000e+00, ..., 5.000e+00, 7.800e+01,\n",
       "        0.000e+00],\n",
       "       [0.000e+00, 0.000e+00, 6.500e-01, ..., 5.000e+00, 4.000e+01,\n",
       "        0.000e+00]])"
      ]
     },
     "execution_count": 166,
     "metadata": {},
     "output_type": "execute_result"
    }
   ],
   "source": [
    "data_arr"
   ]
  },
  {
   "cell_type": "code",
   "execution_count": 167,
   "id": "78533002",
   "metadata": {},
   "outputs": [],
   "source": [
    "X = data_arr[:,:-1]\n",
    "y = data_arr[:,-1]"
   ]
  },
  {
   "cell_type": "code",
   "execution_count": 168,
   "id": "ed95622b",
   "metadata": {},
   "outputs": [],
   "source": [
    "X_train, X_test, y_train, y_test = train_test_split(X, y, test_size=0.25, random_state=42)"
   ]
  },
  {
   "cell_type": "code",
   "execution_count": 169,
   "id": "47880061",
   "metadata": {},
   "outputs": [
    {
     "data": {
      "text/plain": [
       "StandardScaler()"
      ]
     },
     "execution_count": 169,
     "metadata": {},
     "output_type": "execute_result"
    }
   ],
   "source": [
    "scaler = StandardScaler()\n",
    "scaler.fit(X)"
   ]
  },
  {
   "cell_type": "code",
   "execution_count": 170,
   "id": "52781b17",
   "metadata": {},
   "outputs": [],
   "source": [
    "X_train = scaler.transform(X_train)\n",
    "X_test = scaler.transform(X_test)"
   ]
  },
  {
   "cell_type": "markdown",
   "id": "81a7b669",
   "metadata": {},
   "source": [
    "## Problem 1"
   ]
  },
  {
   "cell_type": "code",
   "execution_count": 171,
   "id": "75f562f8",
   "metadata": {},
   "outputs": [],
   "source": [
    "logistic_model = LogisticRegression(random_state=0).fit(X_train, y_train)"
   ]
  },
  {
   "cell_type": "code",
   "execution_count": 172,
   "id": "15bdc0e2",
   "metadata": {},
   "outputs": [],
   "source": [
    "y_pred = logistic_model.predict(X_test)"
   ]
  },
  {
   "cell_type": "code",
   "execution_count": 173,
   "id": "4e7e608c",
   "metadata": {},
   "outputs": [],
   "source": [
    "cm = confusion_matrix(y_test, y_pred)"
   ]
  },
  {
   "cell_type": "code",
   "execution_count": 174,
   "id": "a08832cf",
   "metadata": {
    "scrolled": true
   },
   "outputs": [
    {
     "data": {
      "text/plain": [
       "array([[650,  26],\n",
       "       [ 63, 412]])"
      ]
     },
     "execution_count": 174,
     "metadata": {},
     "output_type": "execute_result"
    }
   ],
   "source": [
    "cm"
   ]
  },
  {
   "cell_type": "code",
   "execution_count": 175,
   "id": "3ff99191",
   "metadata": {},
   "outputs": [
    {
     "name": "stdout",
     "output_type": "stream",
     "text": [
      "True Positives: 412\n",
      "False Positives: 26\n",
      "True Negatives: 650\n",
      "False Negatives: 63\n"
     ]
    }
   ],
   "source": [
    "tn, fp, fn, tp = confusion_matrix(y_test, y_pred).ravel()\n",
    "print(f'True Positives: {tp}\\nFalse Positives: {fp}\\nTrue Negatives: {tn}\\nFalse Negatives: {fn}')"
   ]
  },
  {
   "cell_type": "code",
   "execution_count": 176,
   "id": "cd1f9322",
   "metadata": {},
   "outputs": [],
   "source": [
    "def four_metrics(y_true, y_pred):\n",
    "    tn, fp, fn, tp = confusion_matrix(y_true, y_pred).ravel()\n",
    "    acc = (tp + tn)/(tn+fp+fn+tp)\n",
    "    precision = tp/(tp + fp)\n",
    "    recall = tp/(tp + fn)\n",
    "    f1 = (2 * precision * recall)/(precision + recall)\n",
    "    \n",
    "    return acc, precision, recall, f1"
   ]
  },
  {
   "cell_type": "code",
   "execution_count": 177,
   "id": "19d7afdd",
   "metadata": {
    "scrolled": true
   },
   "outputs": [],
   "source": [
    "acc, precision, recall, f1 = four_metrics(y_test, y_pred)"
   ]
  },
  {
   "cell_type": "code",
   "execution_count": 178,
   "id": "8ab67e96",
   "metadata": {},
   "outputs": [
    {
     "name": "stdout",
     "output_type": "stream",
     "text": [
      "Accuracy: 0.9226759339704604\n",
      "Error: 0.07732406602953956\n",
      "Precision: 0.9406392694063926\n",
      "Recall: 0.8673684210526316\n",
      "F1 score: 0.9025191675794085\n"
     ]
    }
   ],
   "source": [
    "print(f'Accuracy: {acc}\\nError: {1 - acc}\\nPrecision: {precision}\\nRecall: {recall}\\nF1 score: {f1}')"
   ]
  },
  {
   "cell_type": "code",
   "execution_count": 179,
   "id": "7a10cdf7",
   "metadata": {
    "scrolled": true
   },
   "outputs": [
    {
     "data": {
      "text/plain": [
       "array([[-0.06998354, -0.17615277,  0.06590797,  0.82605282,  0.40643654,\n",
       "         0.14796231,  0.91355967,  0.18269262,  0.1451582 ,  0.04109918,\n",
       "        -0.08383017, -0.0807548 , -0.0101959 ,  0.02326336,  0.37713375,\n",
       "         0.86356395,  0.40341468,  0.05638737,  0.17663286,  0.58995531,\n",
       "         0.28471118,  0.23850801,  0.91523016,  0.15785938, -2.65250354,\n",
       "        -0.84135558, -4.18937477,  0.19678316, -0.95534242, -0.30700541,\n",
       "        -0.38232786, -0.22624911, -0.71412453, -0.01651371, -0.75033087,\n",
       "         0.44693765, -0.01309982, -0.14120068, -0.38449648, -0.15384594,\n",
       "        -1.58700394, -1.25142703, -0.2139786 , -1.32635266, -0.76524478,\n",
       "        -1.17904533, -0.18657693, -1.05480204, -0.29247613, -0.0736021 ,\n",
       "        -0.09551995,  0.2074728 ,  1.20571643,  0.90500773, -0.24051134,\n",
       "         0.75504565,  0.69880815]])"
      ]
     },
     "execution_count": 179,
     "metadata": {},
     "output_type": "execute_result"
    }
   ],
   "source": [
    "logistic_model.coef_"
   ]
  },
  {
   "cell_type": "code",
   "execution_count": 180,
   "id": "afbe2edc",
   "metadata": {},
   "outputs": [
    {
     "data": {
      "text/plain": [
       "array([-2.64615871])"
      ]
     },
     "execution_count": 180,
     "metadata": {},
     "output_type": "execute_result"
    }
   ],
   "source": [
    "logistic_model.intercept_"
   ]
  },
  {
   "cell_type": "code",
   "execution_count": 181,
   "id": "278007ed",
   "metadata": {
    "scrolled": true
   },
   "outputs": [
    {
     "data": {
      "text/plain": [
       "26"
      ]
     },
     "execution_count": 181,
     "metadata": {},
     "output_type": "execute_result"
    }
   ],
   "source": [
    "np.argmax(abs(logistic_model.coef_))"
   ]
  },
  {
   "cell_type": "code",
   "execution_count": 182,
   "id": "13f1508a",
   "metadata": {},
   "outputs": [],
   "source": [
    "with open('spambase/spambase.names') as f:\n",
    "    data_names = f.readlines()"
   ]
  },
  {
   "cell_type": "code",
   "execution_count": 183,
   "id": "dd4388c6",
   "metadata": {},
   "outputs": [],
   "source": [
    "feature_desc = [row.split(':')[0] for row in list(filter(lambda x: x[0] != '|', data_names))[4:]]"
   ]
  },
  {
   "cell_type": "code",
   "execution_count": 184,
   "id": "063ef5f7",
   "metadata": {
    "scrolled": true
   },
   "outputs": [
    {
     "data": {
      "text/plain": [
       "'word_freq_george'"
      ]
     },
     "execution_count": 184,
     "metadata": {},
     "output_type": "execute_result"
    }
   ],
   "source": [
    "feature_desc[26]"
   ]
  },
  {
   "cell_type": "code",
   "execution_count": 185,
   "id": "9dc4019f",
   "metadata": {
    "scrolled": true
   },
   "outputs": [],
   "source": [
    "df = pd.DataFrame(columns=['Threshold', 'Accuracy', 'Precision', 'Recall'])\n",
    "thresholds = [0.25, 0.5, 0.75, 0.9]\n",
    "y_pred_prob = logistic_model.predict_proba(X_test)\n",
    "for threshold in thresholds:\n",
    "    y_pred_threshold = np.array([1 if pred[1] >= threshold else 0 for pred in y_pred_prob])\n",
    "    acc, precision, recall, _ = four_metrics(y_test, y_pred_threshold)\n",
    "    df_new_row = pd.DataFrame.from_records([{'Threshold': threshold, 'Accuracy':acc, 'Precision': precision, 'Recall': recall}])\n",
    "    df = pd.concat([df, df_new_row], sort=False, ignore_index=True)"
   ]
  },
  {
   "cell_type": "code",
   "execution_count": 186,
   "id": "e8b93bfd",
   "metadata": {
    "scrolled": true
   },
   "outputs": [
    {
     "data": {
      "text/html": [
       "<div>\n",
       "<style scoped>\n",
       "    .dataframe tbody tr th:only-of-type {\n",
       "        vertical-align: middle;\n",
       "    }\n",
       "\n",
       "    .dataframe tbody tr th {\n",
       "        vertical-align: top;\n",
       "    }\n",
       "\n",
       "    .dataframe thead th {\n",
       "        text-align: right;\n",
       "    }\n",
       "</style>\n",
       "<table border=\"1\" class=\"dataframe\">\n",
       "  <thead>\n",
       "    <tr style=\"text-align: right;\">\n",
       "      <th></th>\n",
       "      <th>Threshold</th>\n",
       "      <th>Accuracy</th>\n",
       "      <th>Precision</th>\n",
       "      <th>Recall</th>\n",
       "    </tr>\n",
       "  </thead>\n",
       "  <tbody>\n",
       "    <tr>\n",
       "      <th>0</th>\n",
       "      <td>0.25</td>\n",
       "      <td>0.913119</td>\n",
       "      <td>0.851782</td>\n",
       "      <td>0.955789</td>\n",
       "    </tr>\n",
       "    <tr>\n",
       "      <th>1</th>\n",
       "      <td>0.50</td>\n",
       "      <td>0.922676</td>\n",
       "      <td>0.940639</td>\n",
       "      <td>0.867368</td>\n",
       "    </tr>\n",
       "    <tr>\n",
       "      <th>2</th>\n",
       "      <td>0.75</td>\n",
       "      <td>0.885317</td>\n",
       "      <td>0.957333</td>\n",
       "      <td>0.755789</td>\n",
       "    </tr>\n",
       "    <tr>\n",
       "      <th>3</th>\n",
       "      <td>0.90</td>\n",
       "      <td>0.827976</td>\n",
       "      <td>0.972696</td>\n",
       "      <td>0.600000</td>\n",
       "    </tr>\n",
       "  </tbody>\n",
       "</table>\n",
       "</div>"
      ],
      "text/plain": [
       "   Threshold  Accuracy  Precision    Recall\n",
       "0       0.25  0.913119   0.851782  0.955789\n",
       "1       0.50  0.922676   0.940639  0.867368\n",
       "2       0.75  0.885317   0.957333  0.755789\n",
       "3       0.90  0.827976   0.972696  0.600000"
      ]
     },
     "execution_count": 186,
     "metadata": {},
     "output_type": "execute_result"
    }
   ],
   "source": [
    "df"
   ]
  },
  {
   "cell_type": "markdown",
   "id": "2975f901",
   "metadata": {},
   "source": [
    "## Problem 2"
   ]
  },
  {
   "cell_type": "code",
   "execution_count": 187,
   "id": "8dce167c",
   "metadata": {},
   "outputs": [],
   "source": [
    "def cross_entropy_loss(X, y, theta):\n",
    "    loss = 0\n",
    "    for sample, response in zip(X, y):\n",
    "        try:\n",
    "            loss_pos = response * np.log(logistic_predict(sample, theta))\n",
    "            loss_neg = (1 - response) * np.log(1 - logistic_predict(sample, theta))\n",
    "            loss += - (loss_pos + loss_neg)\n",
    "        except:\n",
    "            print(logistic_predict(sample, theta))\n",
    "            print(loss_pos)\n",
    "            print(loss_neg)\n",
    "        \n",
    "    return loss"
   ]
  },
  {
   "cell_type": "code",
   "execution_count": 188,
   "id": "678c43d7",
   "metadata": {},
   "outputs": [],
   "source": [
    "def logistic_predict(x, theta):\n",
    "    x_theta = np.float128(np.matmul(theta.T, x))\n",
    "    logi = 1 / (1 + np.exp(-x_theta))\n",
    "    \n",
    "    #return np.clip(logi, 1e-9, 1 - 1e-9)\n",
    "    return logi"
   ]
  },
  {
   "cell_type": "code",
   "execution_count": 189,
   "id": "32d11a59",
   "metadata": {},
   "outputs": [],
   "source": [
    "def grad(theta, X, Y, num_features, num_samples):\n",
    "    \n",
    "    gradient = np.zeros(num_features)\n",
    "    \n",
    "    for training_sample, training_response in zip(X, Y):\n",
    "        #save bias\n",
    "        bias = gradient[0]\n",
    "        \n",
    "        #update params\n",
    "        h_x = logistic_predict(training_sample, theta)\n",
    "        gradient += (h_x - training_response) * training_sample\n",
    "        \n",
    "        #update bias separately\n",
    "        gradient[0] = bias + (h_x - training_response)\n",
    "        \n",
    "    return gradient"
   ]
  },
  {
   "cell_type": "code",
   "execution_count": 190,
   "id": "06148454",
   "metadata": {},
   "outputs": [],
   "source": [
    "def grad_descent(iterations: int, alpha: int, train_x: np.array, train_y: np.array, params: np.array) -> np.array:\n",
    "    \n",
    "    num_features = train_x.shape[1]\n",
    "    num_samples = train_x.shape[0]\n",
    "    \n",
    "    for iteration in range(iterations):\n",
    "        gradient = grad(params, train_x, train_y, num_features, num_samples)\n",
    "        update = -alpha * gradient\n",
    "        params += update\n",
    "    \n",
    "    return params"
   ]
  },
  {
   "cell_type": "code",
   "execution_count": 191,
   "id": "4c09f5dd",
   "metadata": {},
   "outputs": [],
   "source": [
    "X_train_bias = np.insert(X_train, 0, 1, axis=1)\n",
    "X_test_bias = np.insert(X_test, 0, 1, axis=1)"
   ]
  },
  {
   "cell_type": "code",
   "execution_count": 192,
   "id": "0dd333e7",
   "metadata": {
    "scrolled": true
   },
   "outputs": [
    {
     "name": "stdout",
     "output_type": "stream",
     "text": [
      "Alpha: 0.01\n",
      "Iteration: 10, Cross Entropy Loss: 3.2036513482217233\n",
      "Iteration: 50, Cross Entropy Loss: 3.9545174900655846\n",
      "Iteration: 100, Cross Entropy Loss: 3.8443910739748084\n",
      "Accuracy: 0.888695652173913, Precision: 0.797752808988764, Recall: 0.9551569506726457, F1 Score: 0.8693877551020408\n",
      "\n",
      "Alpha: 0.05\n",
      "Iteration: 10, Cross Entropy Loss: 3.634149713095382\n",
      "Iteration: 50, Cross Entropy Loss: 5.105837385112395\n",
      "Iteration: 100, Cross Entropy Loss: 3.59410151021316\n",
      "Accuracy: 0.8959420289855072, Precision: 0.815196394075982, Recall: 0.9461883408071748, F1 Score: 0.8758215150466967\n",
      "\n",
      "Alpha: 0.1\n",
      "Iteration: 10, Cross Entropy Loss: 3.664182272862797\n",
      "Iteration: 50, Cross Entropy Loss: 3.654170338025927\n",
      "Iteration: 100, Cross Entropy Loss: 4.985701583625828\n",
      "Accuracy: 0.8556521739130435, Precision: 0.7413793103448276, Recall: 0.9641255605381166, F1 Score: 0.838206627680312\n",
      "\n",
      "Alpha: 0.2\n",
      "Iteration: 10, Cross Entropy Loss: 3.594100583143676\n",
      "Iteration: 50, Cross Entropy Loss: 3.0134340887834083\n",
      "Iteration: 100, Cross Entropy Loss: 3.554055393237278\n",
      "Accuracy: 0.8971014492753623, Precision: 0.8177117000646412, Recall: 0.945440956651719, F1 Score: 0.876949740034662\n",
      "\n"
     ]
    }
   ],
   "source": [
    "lrs = [0.01, 0.05, 0.1, 0.2]\n",
    "\n",
    "for alpha in lrs:\n",
    "    \n",
    "    print(f'Alpha: {alpha}')\n",
    "        \n",
    "    #training \n",
    "    num_features = X_train_bias.shape[1]\n",
    "    params = np.zeros(num_features)\n",
    "    \n",
    "    params_10 = grad_descent(10, alpha, X_train_bias, y_train, params)\n",
    "    train_y_pred_prob = np.array([logistic_predict(x, params_10) for x in X_train_bias])\n",
    "    train_y_pred = np.array([1 if pred >= 0.5 else 0 for pred in train_y_pred_prob])\n",
    "    loss_10 = log_loss(y_train, train_y_pred)\n",
    "    \n",
    "    print(f'Iteration: 10, Cross Entropy Loss: {loss_10}')\n",
    "    \n",
    "    params_50 = grad_descent(40, alpha, X_train_bias, y_train, params_10)\n",
    "    train_y_pred_prob = np.array([logistic_predict(x, params_50) for x in X_train_bias])\n",
    "    train_y_pred = np.array([1 if pred >= 0.5 else 0 for pred in train_y_pred_prob])\n",
    "    loss_50 = log_loss(y_train, train_y_pred)\n",
    "    \n",
    "    print(f'Iteration: 50, Cross Entropy Loss: {loss_50}')\n",
    "\n",
    "    \n",
    "    params_100 = grad_descent(50, alpha, X_train_bias, y_train, params_50)\n",
    "    train_y_pred_prob = np.array([logistic_predict(x, params_100) for x in X_train_bias])\n",
    "    train_y_pred = np.array([1 if pred >= 0.5 else 0 for pred in train_y_pred_prob])\n",
    "    loss_100 = log_loss(y_train, train_y_pred)\n",
    "    \n",
    "    print(f'Iteration: 100, Cross Entropy Loss: {loss_100}')\n",
    "\n",
    "    acc, precision, recall, f1 = four_metrics(y_train, train_y_pred)\n",
    "    print(f'Accuracy: {acc}, Precision: {precision}, Recall: {recall}, F1 Score: {f1}\\n')\n"
   ]
  },
  {
   "cell_type": "code",
   "execution_count": 193,
   "id": "a13b67a9",
   "metadata": {},
   "outputs": [
    {
     "name": "stdout",
     "output_type": "stream",
     "text": [
      "Accuracy: 0.9257971014492754, Precision: 0.9239811912225705, Recall: 0.8811659192825112, F1 Score: 0.9020657995409334\n",
      "\n"
     ]
    }
   ],
   "source": [
    "y_pred = logistic_model.predict(X_train)\n",
    "acc, precision, recall, f1 = four_metrics(y_train, y_pred)\n",
    "print(f'Accuracy: {acc}, Precision: {precision}, Recall: {recall}, F1 Score: {f1}\\n')"
   ]
  },
  {
   "cell_type": "markdown",
   "id": "eef1efaa",
   "metadata": {},
   "source": [
    "## Problem 3"
   ]
  },
  {
   "cell_type": "code",
   "execution_count": 194,
   "id": "d69b742c",
   "metadata": {},
   "outputs": [],
   "source": [
    "lda_model = LinearDiscriminantAnalysis().fit(X_train, y_train)"
   ]
  },
  {
   "cell_type": "code",
   "execution_count": 195,
   "id": "24f32424",
   "metadata": {
    "scrolled": true
   },
   "outputs": [],
   "source": [
    "kf = KFold(n_splits=10)"
   ]
  },
  {
   "cell_type": "code",
   "execution_count": 196,
   "id": "7a89f037",
   "metadata": {
    "scrolled": true
   },
   "outputs": [],
   "source": [
    "k_vals = [1, 3, 5, 20, 50]\n",
    "df = pd.DataFrame(columns=['k', 'accuracy', 'error', 'precision', 'recall'])\n",
    "\n",
    "for k in k_vals:\n",
    "    accs = np.array([])\n",
    "    errors = np.array([])\n",
    "    precisions = np.array([])\n",
    "    recalls = np.array([])\n",
    "\n",
    "    for train_index, test_index in kf.split(X_train):\n",
    "\n",
    "        #fit KNN with folds\n",
    "        neigh = KNeighborsClassifier(n_neighbors=k)\n",
    "        X_train_fold = np.array([X_train[i] for i in train_index])\n",
    "        y_train_fold = np.array([y_train[i] for i in train_index])\n",
    "        neigh.fit(X_train_fold, y_train_fold)\n",
    "\n",
    "        #evaluate KNN\n",
    "        X_test_fold = np.array([X_train[i] for i in test_index])\n",
    "        y_test_fold = np.array([y_train[i] for i in test_index])\n",
    "        y_pred = neigh.predict(X_test_fold)\n",
    "        acc, precision, recall, _ = four_metrics(y_test_fold, y_pred)\n",
    "\n",
    "        #track metrics\n",
    "        accs = np.append(accs, acc)\n",
    "        errors = np.append(errors, 1 - acc)\n",
    "        precisions = np.append(precisions, precision)\n",
    "        recalls = np.append(recalls, recall)\n",
    "        \n",
    "    df_new_row = pd.DataFrame.from_records([{'k':k, 'accuracy': accs.mean(), 'error': errors.mean(), 'precision': precisions.mean(), 'recall': recalls.mean()}])\n",
    "    df = pd.concat([df, df_new_row], sort=False, ignore_index=True)\n",
    "    \n"
   ]
  },
  {
   "cell_type": "code",
   "execution_count": 197,
   "id": "a6d20ba4",
   "metadata": {
    "scrolled": true
   },
   "outputs": [
    {
     "data": {
      "text/html": [
       "<div>\n",
       "<style scoped>\n",
       "    .dataframe tbody tr th:only-of-type {\n",
       "        vertical-align: middle;\n",
       "    }\n",
       "\n",
       "    .dataframe tbody tr th {\n",
       "        vertical-align: top;\n",
       "    }\n",
       "\n",
       "    .dataframe thead th {\n",
       "        text-align: right;\n",
       "    }\n",
       "</style>\n",
       "<table border=\"1\" class=\"dataframe\">\n",
       "  <thead>\n",
       "    <tr style=\"text-align: right;\">\n",
       "      <th></th>\n",
       "      <th>k</th>\n",
       "      <th>accuracy</th>\n",
       "      <th>error</th>\n",
       "      <th>precision</th>\n",
       "      <th>recall</th>\n",
       "    </tr>\n",
       "  </thead>\n",
       "  <tbody>\n",
       "    <tr>\n",
       "      <th>0</th>\n",
       "      <td>1</td>\n",
       "      <td>0.902319</td>\n",
       "      <td>0.097681</td>\n",
       "      <td>0.878664</td>\n",
       "      <td>0.867902</td>\n",
       "    </tr>\n",
       "    <tr>\n",
       "      <th>1</th>\n",
       "      <td>3</td>\n",
       "      <td>0.901449</td>\n",
       "      <td>0.098551</td>\n",
       "      <td>0.881980</td>\n",
       "      <td>0.860663</td>\n",
       "    </tr>\n",
       "    <tr>\n",
       "      <th>2</th>\n",
       "      <td>5</td>\n",
       "      <td>0.902029</td>\n",
       "      <td>0.097971</td>\n",
       "      <td>0.889194</td>\n",
       "      <td>0.852853</td>\n",
       "    </tr>\n",
       "    <tr>\n",
       "      <th>3</th>\n",
       "      <td>20</td>\n",
       "      <td>0.893043</td>\n",
       "      <td>0.106957</td>\n",
       "      <td>0.909206</td>\n",
       "      <td>0.804843</td>\n",
       "    </tr>\n",
       "    <tr>\n",
       "      <th>4</th>\n",
       "      <td>50</td>\n",
       "      <td>0.877681</td>\n",
       "      <td>0.122319</td>\n",
       "      <td>0.899137</td>\n",
       "      <td>0.771587</td>\n",
       "    </tr>\n",
       "  </tbody>\n",
       "</table>\n",
       "</div>"
      ],
      "text/plain": [
       "    k  accuracy     error  precision    recall\n",
       "0   1  0.902319  0.097681   0.878664  0.867902\n",
       "1   3  0.901449  0.098551   0.881980  0.860663\n",
       "2   5  0.902029  0.097971   0.889194  0.852853\n",
       "3  20  0.893043  0.106957   0.909206  0.804843\n",
       "4  50  0.877681  0.122319   0.899137  0.771587"
      ]
     },
     "execution_count": 197,
     "metadata": {},
     "output_type": "execute_result"
    }
   ],
   "source": [
    "df"
   ]
  },
  {
   "cell_type": "code",
   "execution_count": 198,
   "id": "5df7589e",
   "metadata": {},
   "outputs": [],
   "source": [
    "knn_model = KNeighborsClassifier(n_neighbors=1)\n",
    "knn_model.fit(X_train, y_train)\n",
    "models = [logistic_model, lda_model, knn_model]\n",
    "model_names = ['Logistic', 'LDA', 'KNN']\n",
    "df = pd.DataFrame(columns=['Model', 'data', 'accuracy', 'error', 'precision', 'recall'])\n",
    "\n",
    "for model, model_name in zip(models, model_names):\n",
    "    \n",
    "    #training\n",
    "    y_pred = model.predict(X_train)\n",
    "    acc, precision, recall, _ = four_metrics(y_train, y_pred)\n",
    "\n",
    "    df_new_row = pd.DataFrame.from_records([{'Model':model_name, 'data': 'train', 'accuracy': acc, 'error': 1-acc, 'precision': precision, 'recall': recall}])\n",
    "    df = pd.concat([df, df_new_row], sort=False, ignore_index=True)\n",
    "    \n",
    "    #testing\n",
    "    y_pred = model.predict(X_test)\n",
    "    acc, precision, recall, _ = four_metrics(y_test, y_pred)\n",
    "\n",
    "    df_new_row = pd.DataFrame.from_records([{'Model':model_name, 'data': 'test', 'accuracy': acc, 'error': 1-acc, 'precision': precision, 'recall': recall}])\n",
    "    df = pd.concat([df, df_new_row], sort=False, ignore_index=True)"
   ]
  },
  {
   "cell_type": "code",
   "execution_count": 199,
   "id": "8ae2a82b",
   "metadata": {},
   "outputs": [
    {
     "data": {
      "text/html": [
       "<div>\n",
       "<style scoped>\n",
       "    .dataframe tbody tr th:only-of-type {\n",
       "        vertical-align: middle;\n",
       "    }\n",
       "\n",
       "    .dataframe tbody tr th {\n",
       "        vertical-align: top;\n",
       "    }\n",
       "\n",
       "    .dataframe thead th {\n",
       "        text-align: right;\n",
       "    }\n",
       "</style>\n",
       "<table border=\"1\" class=\"dataframe\">\n",
       "  <thead>\n",
       "    <tr style=\"text-align: right;\">\n",
       "      <th></th>\n",
       "      <th>Model</th>\n",
       "      <th>data</th>\n",
       "      <th>accuracy</th>\n",
       "      <th>error</th>\n",
       "      <th>precision</th>\n",
       "      <th>recall</th>\n",
       "    </tr>\n",
       "  </thead>\n",
       "  <tbody>\n",
       "    <tr>\n",
       "      <th>0</th>\n",
       "      <td>Logistic</td>\n",
       "      <td>train</td>\n",
       "      <td>0.925797</td>\n",
       "      <td>0.074203</td>\n",
       "      <td>0.923981</td>\n",
       "      <td>0.881166</td>\n",
       "    </tr>\n",
       "    <tr>\n",
       "      <th>1</th>\n",
       "      <td>Logistic</td>\n",
       "      <td>test</td>\n",
       "      <td>0.922676</td>\n",
       "      <td>0.077324</td>\n",
       "      <td>0.940639</td>\n",
       "      <td>0.867368</td>\n",
       "    </tr>\n",
       "    <tr>\n",
       "      <th>2</th>\n",
       "      <td>LDA</td>\n",
       "      <td>train</td>\n",
       "      <td>0.886667</td>\n",
       "      <td>0.113333</td>\n",
       "      <td>0.915716</td>\n",
       "      <td>0.779522</td>\n",
       "    </tr>\n",
       "    <tr>\n",
       "      <th>3</th>\n",
       "      <td>LDA</td>\n",
       "      <td>test</td>\n",
       "      <td>0.885317</td>\n",
       "      <td>0.114683</td>\n",
       "      <td>0.929825</td>\n",
       "      <td>0.781053</td>\n",
       "    </tr>\n",
       "    <tr>\n",
       "      <th>4</th>\n",
       "      <td>KNN</td>\n",
       "      <td>train</td>\n",
       "      <td>0.999710</td>\n",
       "      <td>0.000290</td>\n",
       "      <td>0.999253</td>\n",
       "      <td>1.000000</td>\n",
       "    </tr>\n",
       "    <tr>\n",
       "      <th>5</th>\n",
       "      <td>KNN</td>\n",
       "      <td>test</td>\n",
       "      <td>0.897480</td>\n",
       "      <td>0.102520</td>\n",
       "      <td>0.872651</td>\n",
       "      <td>0.880000</td>\n",
       "    </tr>\n",
       "  </tbody>\n",
       "</table>\n",
       "</div>"
      ],
      "text/plain": [
       "      Model   data  accuracy     error  precision    recall\n",
       "0  Logistic  train  0.925797  0.074203   0.923981  0.881166\n",
       "1  Logistic   test  0.922676  0.077324   0.940639  0.867368\n",
       "2       LDA  train  0.886667  0.113333   0.915716  0.779522\n",
       "3       LDA   test  0.885317  0.114683   0.929825  0.781053\n",
       "4       KNN  train  0.999710  0.000290   0.999253  1.000000\n",
       "5       KNN   test  0.897480  0.102520   0.872651  0.880000"
      ]
     },
     "execution_count": 199,
     "metadata": {},
     "output_type": "execute_result"
    }
   ],
   "source": [
    "df"
   ]
  },
  {
   "cell_type": "code",
   "execution_count": 200,
   "id": "b270a138",
   "metadata": {},
   "outputs": [
    {
     "data": {
      "text/plain": [
       "<sklearn.metrics._plot.roc_curve.RocCurveDisplay at 0x7ff96c1e0970>"
      ]
     },
     "execution_count": 200,
     "metadata": {},
     "output_type": "execute_result"
    },
    {
     "data": {
      "image/png": "[encoded data removed]",
      "text/plain": [
       "<Figure size 432x288 with 1 Axes>"
      ]
     },
     "metadata": {},
     "output_type": "display_data"
    }
   ],
   "source": [
    "import seaborn as sns\n",
    "\n",
    "sns.set()\n",
    "metrics.plot_roc_curve(logistic_model, X_test, y_test)"
   ]
  },
  {
   "cell_type": "code",
   "execution_count": 201,
   "id": "6a87766f",
   "metadata": {},
   "outputs": [],
   "source": [
    "thresholds = [0, 0.1, 0.2, 0.3, 0.4, 0.5, 0.6, 0.7, 0.8, 0.9, 1]\n",
    "fprs = np.array([])\n",
    "tprs = np.array([])\n",
    "y_pred_prob = logistic_model.predict_proba(X_test)\n",
    "for threshold in thresholds:\n",
    "    y_pred_threshold = np.array([1 if pred[1] >= threshold else 0 for pred in y_pred_prob])\n",
    "    tn, fp, fn, tp = confusion_matrix(y_test, y_pred_threshold).ravel()\n",
    "    fprs = np.append(fprs, fp/(fp + tn))\n",
    "    tprs = np.append(tprs, tp/(tp + fn))"
   ]
  },
  {
   "cell_type": "code",
   "execution_count": 202,
   "id": "239dcb11",
   "metadata": {},
   "outputs": [
    {
     "data": {
      "text/plain": [
       "Text(0, 0.5, 'True Positive Rate')"
      ]
     },
     "execution_count": 202,
     "metadata": {},
     "output_type": "execute_result"
    },
    {
     "data": {
      "image/png": "[encoded data removed]",
      "text/plain": [
       "<Figure size 432x288 with 1 Axes>"
      ]
     },
     "metadata": {},
     "output_type": "display_data"
    }
   ],
   "source": [
    "import matplotlib.pyplot as plt\n",
    "\n",
    "plt.plot(fprs, tprs)\n",
    "plt.title('ROC Curve')\n",
    "plt.xlabel('False Positive Rate')\n",
    "plt.ylabel('True Positive Rate')"
   ]
  },
  {
   "cell_type": "markdown",
   "id": "8fc918bb",
   "metadata": {},
   "source": [
    "## Problem 4"
   ]
  },
  {
   "cell_type": "code",
   "execution_count": 203,
   "id": "041be68b",
   "metadata": {},
   "outputs": [],
   "source": [
    "def kfold_split(data: np.array, k: int):\n",
    "    folds = []\n",
    "    fold_size = int(data.shape[0]/k)\n",
    "    for i in range(k):\n",
    "        fold = data[i * fold_size: (i + 1) * fold_size]\n",
    "        folds.append(fold)\n",
    "    \n",
    "    return np.array(folds)"
   ]
  },
  {
   "cell_type": "code",
   "execution_count": 204,
   "id": "9204767d",
   "metadata": {},
   "outputs": [],
   "source": [
    "def cross_validate(X: np.array, y: np.array, k: int, model):\n",
    "    X_folds = kfold_split(X, k)\n",
    "    y_folds = kfold_split(y, k)\n",
    "    errors = np.array([])\n",
    "    \n",
    "    #running experiment i\n",
    "    for i in range(k):\n",
    "        X_testing_split = X_folds[i:i+1]\n",
    "        X_testing_split = X_testing_split.reshape(-1, X_testing_split.shape[-1])\n",
    "        \n",
    "        X_training_split = np.append(X_folds[0:i], X_folds[i+1:k], axis=0)\n",
    "        X_training_split = X_training_split.reshape(-1, X_training_split.shape[-1])\n",
    "        \n",
    "        y_testing_split = y_folds[i:i+1]\n",
    "        y_testing_split = y_testing_split.flatten()\n",
    "        \n",
    "        y_training_split = np.append(y_folds[0:i], y_folds[i+1:k], axis=0)\n",
    "        y_training_split = y_training_split.flatten()\n",
    "        \n",
    "        model_temp = clone(model)\n",
    "        model_temp.fit(X_training_split, y_training_split)\n",
    "        y_pred = model_temp.predict(X_testing_split)\n",
    "        \n",
    "        acc, _, _, _ = four_metrics(y_testing_split, y_pred)\n",
    "        errors = np.append(errors, 1-acc)\n",
    "    \n",
    "    return errors.mean()"
   ]
  },
  {
   "cell_type": "code",
   "execution_count": 205,
   "id": "b215bd28",
   "metadata": {},
   "outputs": [],
   "source": [
    "lda_model = LinearDiscriminantAnalysis()\n",
    "logistic_model = LogisticRegression()\n",
    "\n",
    "models = [lda_model, logistic_model]\n",
    "model_names = ['LDA', 'Logistic']\n",
    "k_vals = [5, 10]\n",
    "df = pd.DataFrame(columns=['Model', 'k', 'Validation Error'])\n",
    "\n",
    "for model, model_name in zip(models, model_names):\n",
    "    for k in k_vals:\n",
    "        error = cross_validate(X_train, y_train, k, model)\n",
    "        df_new_row = pd.DataFrame.from_records([{'Model': model_name, 'k':k, 'Validation Error': error}])\n",
    "        df = pd.concat([df, df_new_row], sort=False, ignore_index=True)\n"
   ]
  },
  {
   "cell_type": "code",
   "execution_count": 206,
   "id": "f1e8a1a8",
   "metadata": {},
   "outputs": [
    {
     "data": {
      "text/html": [
       "<div>\n",
       "<style scoped>\n",
       "    .dataframe tbody tr th:only-of-type {\n",
       "        vertical-align: middle;\n",
       "    }\n",
       "\n",
       "    .dataframe tbody tr th {\n",
       "        vertical-align: top;\n",
       "    }\n",
       "\n",
       "    .dataframe thead th {\n",
       "        text-align: right;\n",
       "    }\n",
       "</style>\n",
       "<table border=\"1\" class=\"dataframe\">\n",
       "  <thead>\n",
       "    <tr style=\"text-align: right;\">\n",
       "      <th></th>\n",
       "      <th>Model</th>\n",
       "      <th>k</th>\n",
       "      <th>Validation Error</th>\n",
       "    </tr>\n",
       "  </thead>\n",
       "  <tbody>\n",
       "    <tr>\n",
       "      <th>0</th>\n",
       "      <td>LDA</td>\n",
       "      <td>5</td>\n",
       "      <td>0.115652</td>\n",
       "    </tr>\n",
       "    <tr>\n",
       "      <th>1</th>\n",
       "      <td>LDA</td>\n",
       "      <td>10</td>\n",
       "      <td>0.114783</td>\n",
       "    </tr>\n",
       "    <tr>\n",
       "      <th>2</th>\n",
       "      <td>Logistic</td>\n",
       "      <td>5</td>\n",
       "      <td>0.078841</td>\n",
       "    </tr>\n",
       "    <tr>\n",
       "      <th>3</th>\n",
       "      <td>Logistic</td>\n",
       "      <td>10</td>\n",
       "      <td>0.077971</td>\n",
       "    </tr>\n",
       "  </tbody>\n",
       "</table>\n",
       "</div>"
      ],
      "text/plain": [
       "      Model   k  Validation Error\n",
       "0       LDA   5          0.115652\n",
       "1       LDA  10          0.114783\n",
       "2  Logistic   5          0.078841\n",
       "3  Logistic  10          0.077971"
      ]
     },
     "execution_count": 206,
     "metadata": {},
     "output_type": "execute_result"
    }
   ],
   "source": [
    "df"
   ]
  },
  {
   "cell_type": "code",
   "execution_count": null,
   "id": "dd06809e",
   "metadata": {},
   "outputs": [],
   "source": []
  }
 ],
 "metadata": {
  "kernelspec": {
   "display_name": "Python 3 (ipykernel)",
   "language": "python",
   "name": "python3"
  },
  "language_info": {
   "codemirror_mode": {
    "name": "ipython",
    "version": 3
   },
   "file_extension": ".py",
   "mimetype": "text/x-python",
   "name": "python",
   "nbconvert_exporter": "python",
   "pygments_lexer": "ipython3",
   "version": "3.9.7"
  }
 },
 "nbformat": 4,
 "nbformat_minor": 5
}
