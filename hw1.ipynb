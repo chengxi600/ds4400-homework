{
 "cells": [
  {
   "cell_type": "code",
   "execution_count": 2,
   "metadata": {},
   "outputs": [],
   "source": [
    "import numpy as np"
   ]
  },
  {
   "cell_type": "markdown",
   "metadata": {},
   "source": [
    "## Problem 4"
   ]
  },
  {
   "cell_type": "markdown",
   "metadata": {},
   "source": [
    "### 4c."
   ]
  },
  {
   "cell_type": "markdown",
   "metadata": {},
   "source": [
    "Generating 3 3x3 matrices"
   ]
  },
  {
   "cell_type": "code",
   "execution_count": 14,
   "metadata": {
    "scrolled": true
   },
   "outputs": [
    {
     "name": "stdout",
     "output_type": "stream",
     "text": [
      "a:\n",
      "[[-8 -9  8]\n",
      " [-8  3 -3]\n",
      " [ 9  5 -3]]\n",
      "b:\n",
      "[[ 9  6 -2]\n",
      " [-3 -8 -7]\n",
      " [ 8 10  5]]\n",
      "c:\n",
      "[[-9 -2 -9]\n",
      " [-6  4  8]\n",
      " [-1  7 -1]]\n"
     ]
    }
   ],
   "source": [
    "a = np.random.randint(-10, 11, (3, 3))\n",
    "b = np.random.randint(-10, 11, (3, 3))\n",
    "c = np.random.randint(-10, 11, (3, 3))\n",
    "print('a:')\n",
    "print(a)\n",
    "print('b:')\n",
    "print(b)\n",
    "print('c:')\n",
    "print(c)"
   ]
  },
  {
   "cell_type": "markdown",
   "metadata": {},
   "source": [
    "Computing Inverses"
   ]
  },
  {
   "cell_type": "code",
   "execution_count": 15,
   "metadata": {
    "scrolled": true
   },
   "outputs": [
    {
     "name": "stdout",
     "output_type": "stream",
     "text": [
      "a^-1:\n",
      "[[-0.048 -0.104 -0.024]\n",
      " [ 0.408  0.384  0.704]\n",
      " [ 0.536  0.328  0.768]]\n",
      "b^-1:\n",
      "[[-0.68181818  1.13636364  1.31818182]\n",
      " [ 0.93181818 -1.38636364 -1.56818182]\n",
      " [-0.77272727  0.95454545  1.22727273]]\n",
      "c^-1:\n",
      "[[-0.06593407 -0.07142857  0.02197802]\n",
      " [-0.01538462  0.          0.13846154]\n",
      " [-0.04175824  0.07142857 -0.05274725]]\n"
     ]
    }
   ],
   "source": [
    "a_inv = np.linalg.inv(a)\n",
    "b_inv = np.linalg.inv(b)\n",
    "c_inv = np.linalg.inv(c)\n",
    "\n",
    "print('a^-1:')\n",
    "print(a_inv)\n",
    "print('b^-1:')\n",
    "print(b_inv)\n",
    "print('c^-1:')\n",
    "print(c_inv)"
   ]
  },
  {
   "cell_type": "markdown",
   "metadata": {},
   "source": [
    "Computing product of each matrix with it's inverse"
   ]
  },
  {
   "cell_type": "code",
   "execution_count": 17,
   "metadata": {
    "scrolled": true
   },
   "outputs": [
    {
     "name": "stdout",
     "output_type": "stream",
     "text": [
      "aa^-1:\n",
      "[[ 1.00000000e+00 -4.44089210e-16  0.00000000e+00]\n",
      " [-3.33066907e-16  1.00000000e+00 -2.22044605e-16]\n",
      " [ 1.11022302e-16 -5.55111512e-17  1.00000000e+00]]\n",
      "bb^-1:\n",
      "[[ 1.00000000e+00 -8.88178420e-16 -8.88178420e-16]\n",
      " [ 0.00000000e+00  1.00000000e+00  1.77635684e-15]\n",
      " [-8.88178420e-16  4.44089210e-16  1.00000000e+00]]\n",
      "cc^-1:\n",
      "[[ 1.00000000e+00 -1.38777878e-16  2.08166817e-17]\n",
      " [ 1.66533454e-16  1.00000000e+00  5.55111512e-17]\n",
      " [ 0.00000000e+00 -1.38777878e-17  1.00000000e+00]]\n"
     ]
    }
   ],
   "source": [
    "print('aa^-1:')\n",
    "print(np.matmul(a, a_inv))\n",
    "print('bb^-1:')\n",
    "print(np.matmul(b, b_inv))\n",
    "print('cc^-1:')\n",
    "print(np.matmul(c, c_inv))"
   ]
  },
  {
   "cell_type": "markdown",
   "metadata": {},
   "source": [
    "## Problem 5"
   ]
  },
  {
   "cell_type": "markdown",
   "metadata": {},
   "source": [
    "### 5a."
   ]
  },
  {
   "cell_type": "markdown",
   "metadata": {},
   "source": [
    "Averages of each feature"
   ]
  },
  {
   "cell_type": "code",
   "execution_count": 68,
   "metadata": {},
   "outputs": [
    {
     "data": {
      "text/plain": [
       "bedrooms             3.370842\n",
       "bathrooms            2.114757\n",
       "sqft_living       2079.899736\n",
       "sqft_lot         15106.967566\n",
       "floors               1.494309\n",
       "waterfront           0.007542\n",
       "view                 0.234303\n",
       "condition            3.409430\n",
       "grade                7.656873\n",
       "sqft_above        1788.390691\n",
       "sqft_basement      291.509045\n",
       "yr_built          1971.005136\n",
       "yr_renovated        84.402258\n",
       "lat                 47.560053\n",
       "long              -122.213896\n",
       "sqft_living15     1986.552492\n",
       "sqft_lot15       12768.455652\n",
       "dtype: float64"
      ]
     },
     "execution_count": 68,
     "metadata": {},
     "output_type": "execute_result"
    }
   ],
   "source": [
    "import pandas as pd\n",
    "\n",
    "df = pd.read_csv('kc_house_data.csv')\n",
    "df_features = df.drop(['id', 'date', 'zipcode', 'price'], axis=1)\n",
    "np.mean(df_features)"
   ]
  },
  {
   "cell_type": "markdown",
   "metadata": {},
   "source": [
    "Variance of each feature"
   ]
  },
  {
   "cell_type": "code",
   "execution_count": 69,
   "metadata": {},
   "outputs": [
    {
     "data": {
      "text/plain": [
       "bedrooms         8.649750e-01\n",
       "bathrooms        5.931238e-01\n",
       "sqft_living      8.434947e+05\n",
       "sqft_lot         1.715579e+09\n",
       "floors           2.915745e-01\n",
       "waterfront       7.484879e-03\n",
       "view             5.872154e-01\n",
       "condition        4.234469e-01\n",
       "grade            1.381639e+00\n",
       "sqft_above       6.857029e+05\n",
       "sqft_basement    1.958636e+05\n",
       "yr_built         8.627573e+02\n",
       "yr_renovated     1.613387e+05\n",
       "lat              1.919901e-02\n",
       "long             1.983170e-02\n",
       "sqft_living15    4.697395e+05\n",
       "sqft_lot15       7.454837e+08\n",
       "dtype: float64"
      ]
     },
     "execution_count": 69,
     "metadata": {},
     "output_type": "execute_result"
    }
   ],
   "source": [
    "np.var(df_features)"
   ]
  },
  {
   "cell_type": "markdown",
   "metadata": {},
   "source": [
    "Minimum of each feature"
   ]
  },
  {
   "cell_type": "code",
   "execution_count": 70,
   "metadata": {},
   "outputs": [
    {
     "data": {
      "text/plain": [
       "bedrooms            0.0000\n",
       "bathrooms           0.0000\n",
       "sqft_living       290.0000\n",
       "sqft_lot          520.0000\n",
       "floors              1.0000\n",
       "waterfront          0.0000\n",
       "view                0.0000\n",
       "condition           1.0000\n",
       "grade               1.0000\n",
       "sqft_above        290.0000\n",
       "sqft_basement       0.0000\n",
       "yr_built         1900.0000\n",
       "yr_renovated        0.0000\n",
       "lat                47.1559\n",
       "long             -122.5190\n",
       "sqft_living15     399.0000\n",
       "sqft_lot15        651.0000\n",
       "dtype: float64"
      ]
     },
     "execution_count": 70,
     "metadata": {},
     "output_type": "execute_result"
    }
   ],
   "source": [
    "np.min(df_features)"
   ]
  },
  {
   "cell_type": "markdown",
   "metadata": {},
   "source": [
    "Maximum of each feature"
   ]
  },
  {
   "cell_type": "code",
   "execution_count": 93,
   "metadata": {
    "scrolled": true
   },
   "outputs": [
    {
     "data": {
      "text/plain": [
       "bedrooms         3.300000e+01\n",
       "bathrooms        8.000000e+00\n",
       "sqft_living      1.354000e+04\n",
       "sqft_lot         1.651359e+06\n",
       "floors           3.500000e+00\n",
       "waterfront       1.000000e+00\n",
       "view             4.000000e+00\n",
       "condition        5.000000e+00\n",
       "grade            1.300000e+01\n",
       "sqft_above       9.410000e+03\n",
       "sqft_basement    4.820000e+03\n",
       "yr_built         2.015000e+03\n",
       "yr_renovated     2.015000e+03\n",
       "lat              4.777760e+01\n",
       "long            -1.213150e+02\n",
       "sqft_living15    6.210000e+03\n",
       "sqft_lot15       8.712000e+05\n",
       "dtype: float64"
      ]
     },
     "execution_count": 93,
     "metadata": {},
     "output_type": "execute_result"
    }
   ],
   "source": [
    "np.max(df_features)"
   ]
  },
  {
   "cell_type": "markdown",
   "metadata": {},
   "source": [
    "## 5b."
   ]
  },
  {
   "cell_type": "markdown",
   "metadata": {},
   "source": [
    "Table of correlation coefficient of each feature with price"
   ]
  },
  {
   "cell_type": "code",
   "execution_count": 90,
   "metadata": {},
   "outputs": [
    {
     "data": {
      "text/plain": [
       "bedrooms         0.308350\n",
       "bathrooms        0.525138\n",
       "sqft_living      0.702035\n",
       "sqft_lot         0.089661\n",
       "floors           0.256794\n",
       "waterfront       0.266369\n",
       "view             0.397293\n",
       "condition        0.036362\n",
       "grade            0.667434\n",
       "sqft_above       0.605567\n",
       "sqft_basement    0.323816\n",
       "yr_built         0.054012\n",
       "yr_renovated     0.126434\n",
       "lat              0.307003\n",
       "long             0.021626\n",
       "sqft_living15    0.585379\n",
       "sqft_lot15       0.082447\n",
       "Name: price, dtype: float64"
      ]
     },
     "execution_count": 90,
     "metadata": {},
     "output_type": "execute_result"
    }
   ],
   "source": [
    "df.corr(method='pearson')['price'].drop(['id', 'zipcode', 'price'])"
   ]
  }
 ],
 "metadata": {
  "kernelspec": {
   "display_name": "Python 3",
   "language": "python",
   "name": "python3"
  },
  "language_info": {
   "codemirror_mode": {
    "name": "ipython",
    "version": 3
   },
   "file_extension": ".py",
   "mimetype": "text/x-python",
   "name": "python",
   "nbconvert_exporter": "python",
   "pygments_lexer": "ipython3",
   "version": "3.7.4"
  }
 },
 "nbformat": 4,
 "nbformat_minor": 2
}
