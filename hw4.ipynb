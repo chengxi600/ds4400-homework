{
 "cells": [
  {
   "cell_type": "code",
   "execution_count": 329,
   "id": "1f24f2ed",
   "metadata": {},
   "outputs": [],
   "source": [
    "import numpy as np\n",
    "from sklearn.model_selection import train_test_split\n",
    "from sklearn.preprocessing import StandardScaler\n",
    "from sklearn.tree import DecisionTreeClassifier\n",
    "import pandas as pd\n",
    "import math\n",
    "from sklearn import metrics\n",
    "from sklearn.metrics import confusion_matrix\n",
    "from sklearn.ensemble import RandomForestClassifier\n",
    "from sklearn.ensemble import AdaBoostClassifier\n",
    "from sklearn.naive_bayes import CategoricalNB\n",
    "from sklearn.preprocessing import OneHotEncoder"
   ]
  },
  {
   "cell_type": "markdown",
   "id": "32b3a81f",
   "metadata": {},
   "source": [
    "Preprocessing"
   ]
  },
  {
   "cell_type": "code",
   "execution_count": 330,
   "id": "9183fe72",
   "metadata": {},
   "outputs": [],
   "source": [
    "with open('spambase/spambase.data') as f:\n",
    "    raw_data = f.readlines()"
   ]
  },
  {
   "cell_type": "code",
   "execution_count": 331,
   "id": "bb68a365",
   "metadata": {},
   "outputs": [],
   "source": [
    "data_arr = np.array([row.strip('\\n').split(',') for row in raw_data]).astype('float')"
   ]
  },
  {
   "cell_type": "code",
   "execution_count": 332,
   "id": "82fea9bb",
   "metadata": {},
   "outputs": [
    {
     "data": {
      "text/plain": [
       "array([[0.000e+00, 6.400e-01, 6.400e-01, ..., 6.100e+01, 2.780e+02,\n",
       "        1.000e+00],\n",
       "       [2.100e-01, 2.800e-01, 5.000e-01, ..., 1.010e+02, 1.028e+03,\n",
       "        1.000e+00],\n",
       "       [6.000e-02, 0.000e+00, 7.100e-01, ..., 4.850e+02, 2.259e+03,\n",
       "        1.000e+00],\n",
       "       ...,\n",
       "       [3.000e-01, 0.000e+00, 3.000e-01, ..., 6.000e+00, 1.180e+02,\n",
       "        0.000e+00],\n",
       "       [9.600e-01, 0.000e+00, 0.000e+00, ..., 5.000e+00, 7.800e+01,\n",
       "        0.000e+00],\n",
       "       [0.000e+00, 0.000e+00, 6.500e-01, ..., 5.000e+00, 4.000e+01,\n",
       "        0.000e+00]])"
      ]
     },
     "execution_count": 332,
     "metadata": {},
     "output_type": "execute_result"
    }
   ],
   "source": [
    "data_arr"
   ]
  },
  {
   "cell_type": "code",
   "execution_count": 333,
   "id": "a85f77d5",
   "metadata": {},
   "outputs": [],
   "source": [
    "X = data_arr[:,:-1]\n",
    "y = data_arr[:,-1]"
   ]
  },
  {
   "cell_type": "code",
   "execution_count": 334,
   "id": "e6eb1043",
   "metadata": {},
   "outputs": [],
   "source": [
    "X_train, X_test, y_train, y_test = train_test_split(X, y, test_size=0.25, random_state=42)"
   ]
  },
  {
   "cell_type": "code",
   "execution_count": 335,
   "id": "4b8f1373",
   "metadata": {},
   "outputs": [
    {
     "data": {
      "text/plain": [
       "StandardScaler()"
      ]
     },
     "execution_count": 335,
     "metadata": {},
     "output_type": "execute_result"
    }
   ],
   "source": [
    "scaler = StandardScaler()\n",
    "scaler.fit(X)"
   ]
  },
  {
   "cell_type": "code",
   "execution_count": 336,
   "id": "6c569fb0",
   "metadata": {},
   "outputs": [],
   "source": [
    "X_train = scaler.transform(X_train)\n",
    "X_test = scaler.transform(X_test)"
   ]
  },
  {
   "cell_type": "markdown",
   "id": "9590f48f",
   "metadata": {},
   "source": [
    "## Problem 1"
   ]
  },
  {
   "cell_type": "code",
   "execution_count": 337,
   "id": "0edd5e3a",
   "metadata": {},
   "outputs": [],
   "source": [
    "clf = DecisionTreeClassifier(random_state=0, criterion='entropy')"
   ]
  },
  {
   "cell_type": "code",
   "execution_count": 338,
   "id": "ca05c9c6",
   "metadata": {},
   "outputs": [],
   "source": [
    "clf = clf.fit(X_train, y_train)"
   ]
  },
  {
   "cell_type": "code",
   "execution_count": 339,
   "id": "4d556742",
   "metadata": {},
   "outputs": [],
   "source": [
    "def four_metrics_auc(y_true, y_pred):\n",
    "    tn, fp, fn, tp = confusion_matrix(y_true, y_pred).ravel()\n",
    "    acc = (tp + tn)/(tn+fp+fn+tp)\n",
    "    precision = tp/(tp + fp)\n",
    "    recall = tp/(tp + fn)\n",
    "    f1 = (2 * precision * recall)/(precision + recall)\n",
    "    fpr, tpr, thresholds = metrics.roc_curve(y_true, y_pred, pos_label=1)\n",
    "    auc = metrics.auc(fpr, tpr)\n",
    "    \n",
    "    return acc, precision, recall, f1, auc"
   ]
  },
  {
   "cell_type": "code",
   "execution_count": 340,
   "id": "c7ef94f7",
   "metadata": {},
   "outputs": [],
   "source": [
    "y_train_pred = clf.predict(X_train)\n",
    "y_test_pred = clf.predict(X_test)"
   ]
  },
  {
   "cell_type": "code",
   "execution_count": 341,
   "id": "579debf6",
   "metadata": {},
   "outputs": [],
   "source": [
    "df = pd.DataFrame(columns=['Criterion', 'Data', 'Accuracy', 'Error', 'F1 score', 'AUC']) \n",
    "\n",
    "acc, _, _, f1, auc = four_metrics_auc(y_train, y_train_pred)\n",
    "df_new_row = pd.DataFrame.from_records([{'Criterion': 'entropy', 'Data': 'Train', 'Accuracy':acc, 'Error': 1- acc, 'F1 score': f1, 'AUC': auc}])\n",
    "df = pd.concat([df, df_new_row], sort=False, ignore_index=True)\n",
    "\n",
    "\n",
    "acc, _, _, f1, auc = four_metrics_auc(y_test, y_test_pred)\n",
    "df_new_row = pd.DataFrame.from_records([{'Criterion': 'entropy', 'Data': 'Test', 'Accuracy':acc, 'Error': 1- acc, 'F1 score': f1, 'AUC': auc}])\n",
    "df = pd.concat([df, df_new_row], sort=False, ignore_index=True)"
   ]
  },
  {
   "cell_type": "code",
   "execution_count": 342,
   "id": "a9b80aa6",
   "metadata": {},
   "outputs": [],
   "source": [
    "clf2 = DecisionTreeClassifier(random_state=0, criterion='gini')\n",
    "clf2 = clf2.fit(X_train, y_train)"
   ]
  },
  {
   "cell_type": "code",
   "execution_count": 343,
   "id": "9bd01203",
   "metadata": {},
   "outputs": [],
   "source": [
    "y_train_pred = clf2.predict(X_train)\n",
    "y_test_pred = clf2.predict(X_test)"
   ]
  },
  {
   "cell_type": "code",
   "execution_count": 344,
   "id": "761a3bd7",
   "metadata": {},
   "outputs": [],
   "source": [
    "acc, _, _, f1, auc = four_metrics_auc(y_train, y_train_pred)\n",
    "df_new_row = pd.DataFrame.from_records([{'Criterion': 'gini', 'Data': 'Train', 'Accuracy':acc, 'Error': 1- acc, 'F1 score': f1, 'AUC': auc}])\n",
    "df = pd.concat([df, df_new_row], sort=False, ignore_index=True)\n",
    "\n",
    "\n",
    "acc, _, _, f1, auc = four_metrics_auc(y_test, y_test_pred)\n",
    "df_new_row = pd.DataFrame.from_records([{'Criterion': 'gini', 'Data': 'Test', 'Accuracy':acc, 'Error': 1- acc, 'F1 score': f1, 'AUC': auc}])\n",
    "df = pd.concat([df, df_new_row], sort=False, ignore_index=True)"
   ]
  },
  {
   "cell_type": "code",
   "execution_count": 345,
   "id": "edb36483",
   "metadata": {
    "scrolled": true
   },
   "outputs": [
    {
     "data": {
      "text/html": [
       "<div>\n",
       "<style scoped>\n",
       "    .dataframe tbody tr th:only-of-type {\n",
       "        vertical-align: middle;\n",
       "    }\n",
       "\n",
       "    .dataframe tbody tr th {\n",
       "        vertical-align: top;\n",
       "    }\n",
       "\n",
       "    .dataframe thead th {\n",
       "        text-align: right;\n",
       "    }\n",
       "</style>\n",
       "<table border=\"1\" class=\"dataframe\">\n",
       "  <thead>\n",
       "    <tr style=\"text-align: right;\">\n",
       "      <th></th>\n",
       "      <th>Criterion</th>\n",
       "      <th>Data</th>\n",
       "      <th>Accuracy</th>\n",
       "      <th>Error</th>\n",
       "      <th>F1 score</th>\n",
       "      <th>AUC</th>\n",
       "    </tr>\n",
       "  </thead>\n",
       "  <tbody>\n",
       "    <tr>\n",
       "      <th>0</th>\n",
       "      <td>entropy</td>\n",
       "      <td>Train</td>\n",
       "      <td>0.999420</td>\n",
       "      <td>0.000580</td>\n",
       "      <td>0.999252</td>\n",
       "      <td>0.999253</td>\n",
       "    </tr>\n",
       "    <tr>\n",
       "      <th>1</th>\n",
       "      <td>entropy</td>\n",
       "      <td>Test</td>\n",
       "      <td>0.915725</td>\n",
       "      <td>0.084275</td>\n",
       "      <td>0.896478</td>\n",
       "      <td>0.911040</td>\n",
       "    </tr>\n",
       "    <tr>\n",
       "      <th>2</th>\n",
       "      <td>gini</td>\n",
       "      <td>Train</td>\n",
       "      <td>0.999420</td>\n",
       "      <td>0.000580</td>\n",
       "      <td>0.999252</td>\n",
       "      <td>0.999253</td>\n",
       "    </tr>\n",
       "    <tr>\n",
       "      <th>3</th>\n",
       "      <td>gini</td>\n",
       "      <td>Test</td>\n",
       "      <td>0.913119</td>\n",
       "      <td>0.086881</td>\n",
       "      <td>0.894958</td>\n",
       "      <td>0.910699</td>\n",
       "    </tr>\n",
       "  </tbody>\n",
       "</table>\n",
       "</div>"
      ],
      "text/plain": [
       "  Criterion   Data  Accuracy     Error  F1 score       AUC\n",
       "0   entropy  Train  0.999420  0.000580  0.999252  0.999253\n",
       "1   entropy   Test  0.915725  0.084275  0.896478  0.911040\n",
       "2      gini  Train  0.999420  0.000580  0.999252  0.999253\n",
       "3      gini   Test  0.913119  0.086881  0.894958  0.910699"
      ]
     },
     "execution_count": 345,
     "metadata": {},
     "output_type": "execute_result"
    }
   ],
   "source": [
    "df"
   ]
  },
  {
   "cell_type": "code",
   "execution_count": 346,
   "id": "1b16f323",
   "metadata": {},
   "outputs": [],
   "source": [
    "train_errs = []\n",
    "test_errs = []\n",
    "depths = range(1, 30)\n",
    "\n",
    "for tree_depth in depths:\n",
    "    clf = DecisionTreeClassifier(random_state=0, criterion='entropy', max_depth=tree_depth)\n",
    "    clf = clf.fit(X_train, y_train)\n",
    "    y_train_pred = clf.predict(X_train)\n",
    "    y_test_pred = clf.predict(X_test)\n",
    "    \n",
    "    acc, _, _, _, _ = four_metrics_auc(y_train, y_train_pred)\n",
    "    train_errs.append(1-acc)\n",
    "    \n",
    "    acc, _, _, _, _ = four_metrics_auc(y_test, y_test_pred)\n",
    "    test_errs.append(1-acc)"
   ]
  },
  {
   "cell_type": "code",
   "execution_count": 347,
   "id": "8a646a91",
   "metadata": {},
   "outputs": [
    {
     "data": {
      "text/plain": [
       "<matplotlib.legend.Legend at 0x7f9006992940>"
      ]
     },
     "execution_count": 347,
     "metadata": {},
     "output_type": "execute_result"
    },
    {
     "data": {
      "image/png": "[encoded data removed]",
      "text/plain": [
       "<Figure size 432x288 with 1 Axes>"
      ]
     },
     "metadata": {},
     "output_type": "display_data"
    }
   ],
   "source": [
    "import matplotlib.pyplot as plt\n",
    "import seaborn as sns\n",
    "\n",
    "sns.set()\n",
    "plt.plot(depths, test_errs, label='Test Error')\n",
    "plt.plot(depths, train_errs, label='Train Error')\n",
    "plt.title('Error vs Decision Tree Depth')\n",
    "plt.ylabel('Error')\n",
    "plt.xlabel('Tree Depth')\n",
    "plt.legend()"
   ]
  },
  {
   "cell_type": "markdown",
   "id": "3287b8f4",
   "metadata": {},
   "source": [
    "## Problem 2"
   ]
  },
  {
   "cell_type": "code",
   "execution_count": 348,
   "id": "d49d0008",
   "metadata": {},
   "outputs": [],
   "source": [
    "T = [10, 50, 100, 500]\n",
    "df = pd.DataFrame(columns=['Data', 'Trees', 'Accuracy', 'F1 score', 'AUC'])\n",
    "\n",
    "for num_trees in T:\n",
    "    clf = RandomForestClassifier(n_estimators=num_trees, max_depth=None, criterion='entropy', random_state=0)\n",
    "    clf = clf.fit(X_train, y_train)\n",
    "    \n",
    "    y_train_pred = clf.predict(X_train)\n",
    "    y_test_pred = clf.predict(X_test)\n",
    "    \n",
    "    acc, _, _, f1, auc = four_metrics_auc(y_train, y_train_pred)\n",
    "    df_new_row = pd.DataFrame.from_records([{'Data': 'Train', 'Trees': num_trees, 'Accuracy': acc, 'F1 score': f1, 'AUC': auc}])\n",
    "    df = pd.concat([df, df_new_row], sort=False, ignore_index=True)\n",
    "    \n",
    "    acc, _, _, f1, auc = four_metrics_auc(y_test, y_test_pred)\n",
    "    df_new_row = pd.DataFrame.from_records([{'Data': 'Test', 'Trees': num_trees, 'Accuracy': acc, 'F1 score': f1, 'AUC': auc}])\n",
    "    df = pd.concat([df, df_new_row], sort=False, ignore_index=True)\n",
    "    \n",
    "    "
   ]
  },
  {
   "cell_type": "code",
   "execution_count": 349,
   "id": "8bd17107",
   "metadata": {
    "scrolled": true
   },
   "outputs": [
    {
     "data": {
      "text/html": [
       "<div>\n",
       "<style scoped>\n",
       "    .dataframe tbody tr th:only-of-type {\n",
       "        vertical-align: middle;\n",
       "    }\n",
       "\n",
       "    .dataframe tbody tr th {\n",
       "        vertical-align: top;\n",
       "    }\n",
       "\n",
       "    .dataframe thead th {\n",
       "        text-align: right;\n",
       "    }\n",
       "</style>\n",
       "<table border=\"1\" class=\"dataframe\">\n",
       "  <thead>\n",
       "    <tr style=\"text-align: right;\">\n",
       "      <th></th>\n",
       "      <th>Data</th>\n",
       "      <th>Trees</th>\n",
       "      <th>Accuracy</th>\n",
       "      <th>F1 score</th>\n",
       "      <th>AUC</th>\n",
       "    </tr>\n",
       "  </thead>\n",
       "  <tbody>\n",
       "    <tr>\n",
       "      <th>0</th>\n",
       "      <td>Train</td>\n",
       "      <td>10</td>\n",
       "      <td>0.998841</td>\n",
       "      <td>0.998504</td>\n",
       "      <td>0.998642</td>\n",
       "    </tr>\n",
       "    <tr>\n",
       "      <th>1</th>\n",
       "      <td>Test</td>\n",
       "      <td>10</td>\n",
       "      <td>0.953084</td>\n",
       "      <td>0.941048</td>\n",
       "      <td>0.946288</td>\n",
       "    </tr>\n",
       "    <tr>\n",
       "      <th>2</th>\n",
       "      <td>Train</td>\n",
       "      <td>50</td>\n",
       "      <td>0.999420</td>\n",
       "      <td>0.999253</td>\n",
       "      <td>0.999390</td>\n",
       "    </tr>\n",
       "    <tr>\n",
       "      <th>3</th>\n",
       "      <td>Test</td>\n",
       "      <td>50</td>\n",
       "      <td>0.955691</td>\n",
       "      <td>0.944865</td>\n",
       "      <td>0.950385</td>\n",
       "    </tr>\n",
       "    <tr>\n",
       "      <th>4</th>\n",
       "      <td>Train</td>\n",
       "      <td>100</td>\n",
       "      <td>0.999420</td>\n",
       "      <td>0.999253</td>\n",
       "      <td>0.999390</td>\n",
       "    </tr>\n",
       "    <tr>\n",
       "      <th>5</th>\n",
       "      <td>Test</td>\n",
       "      <td>100</td>\n",
       "      <td>0.957428</td>\n",
       "      <td>0.947027</td>\n",
       "      <td>0.952177</td>\n",
       "    </tr>\n",
       "    <tr>\n",
       "      <th>6</th>\n",
       "      <td>Train</td>\n",
       "      <td>500</td>\n",
       "      <td>0.999420</td>\n",
       "      <td>0.999253</td>\n",
       "      <td>0.999390</td>\n",
       "    </tr>\n",
       "    <tr>\n",
       "      <th>7</th>\n",
       "      <td>Test</td>\n",
       "      <td>500</td>\n",
       "      <td>0.958297</td>\n",
       "      <td>0.948276</td>\n",
       "      <td>0.953543</td>\n",
       "    </tr>\n",
       "  </tbody>\n",
       "</table>\n",
       "</div>"
      ],
      "text/plain": [
       "    Data Trees  Accuracy  F1 score       AUC\n",
       "0  Train    10  0.998841  0.998504  0.998642\n",
       "1   Test    10  0.953084  0.941048  0.946288\n",
       "2  Train    50  0.999420  0.999253  0.999390\n",
       "3   Test    50  0.955691  0.944865  0.950385\n",
       "4  Train   100  0.999420  0.999253  0.999390\n",
       "5   Test   100  0.957428  0.947027  0.952177\n",
       "6  Train   500  0.999420  0.999253  0.999390\n",
       "7   Test   500  0.958297  0.948276  0.953543"
      ]
     },
     "execution_count": 349,
     "metadata": {},
     "output_type": "execute_result"
    }
   ],
   "source": [
    "df"
   ]
  },
  {
   "cell_type": "code",
   "execution_count": 350,
   "id": "c5e72657",
   "metadata": {},
   "outputs": [],
   "source": [
    "clf = RandomForestClassifier(n_estimators=500, max_depth=10, criterion='entropy', random_state=0)\n",
    "clf = clf.fit(X_train, y_train)"
   ]
  },
  {
   "cell_type": "code",
   "execution_count": 351,
   "id": "c2a323a0",
   "metadata": {},
   "outputs": [
    {
     "data": {
      "text/plain": [
       "array([0.00301627, 0.00501643, 0.00997358, 0.00046294, 0.0299485 ,\n",
       "       0.00530804, 0.10022875, 0.01309559, 0.0045031 , 0.00542419,\n",
       "       0.00584445, 0.00930408, 0.00249842, 0.00134294, 0.00170004,\n",
       "       0.06742312, 0.01295322, 0.00628319, 0.02174187, 0.00549139,\n",
       "       0.05667644, 0.00102362, 0.02520076, 0.03671297, 0.0542579 ,\n",
       "       0.02417809, 0.03433415, 0.00458865, 0.0025518 , 0.00511863,\n",
       "       0.00174508, 0.00062819, 0.00240695, 0.00056513, 0.00424596,\n",
       "       0.00204062, 0.01628157, 0.00023652, 0.00220276, 0.00106835,\n",
       "       0.00093277, 0.00465972, 0.00149477, 0.00244187, 0.00978965,\n",
       "       0.01680476, 0.00011398, 0.00103565, 0.00326371, 0.00925005,\n",
       "       0.00252175, 0.10878314, 0.09572775, 0.00256857, 0.05915515,\n",
       "       0.05771832, 0.03611416])"
      ]
     },
     "execution_count": 351,
     "metadata": {},
     "output_type": "execute_result"
    }
   ],
   "source": [
    "clf.feature_importances_"
   ]
  },
  {
   "cell_type": "code",
   "execution_count": 352,
   "id": "3769d7a0",
   "metadata": {
    "scrolled": false
   },
   "outputs": [
    {
     "data": {
      "text/plain": [
       "array([0.10878314, 0.10022875, 0.09572775, 0.06742312, 0.05915515,\n",
       "       0.05771832, 0.05667644, 0.0542579 , 0.03671297, 0.03611416,\n",
       "       0.03433415, 0.0299485 , 0.02520076, 0.02417809, 0.02174187,\n",
       "       0.01680476, 0.01628157, 0.01309559, 0.01295322, 0.00997358,\n",
       "       0.00978965, 0.00930408, 0.00925005, 0.00628319, 0.00584445,\n",
       "       0.00549139, 0.00542419, 0.00530804, 0.00511863, 0.00501643,\n",
       "       0.00465972, 0.00458865, 0.0045031 , 0.00424596, 0.00326371,\n",
       "       0.00301627, 0.00256857, 0.0025518 , 0.00252175, 0.00249842,\n",
       "       0.00244187, 0.00240695, 0.00220276, 0.00204062, 0.00174508,\n",
       "       0.00170004, 0.00149477, 0.00134294, 0.00106835, 0.00103565,\n",
       "       0.00102362, 0.00093277, 0.00062819, 0.00056513, 0.00046294,\n",
       "       0.00023652, 0.00011398])"
      ]
     },
     "execution_count": 352,
     "metadata": {},
     "output_type": "execute_result"
    }
   ],
   "source": [
    "np.flip(np.sort(clf.feature_importances_))"
   ]
  },
  {
   "cell_type": "code",
   "execution_count": 353,
   "id": "2779e4bd",
   "metadata": {
    "scrolled": true
   },
   "outputs": [
    {
     "data": {
      "text/plain": [
       "array([51,  6, 52, 15, 54, 55, 20, 24, 23, 56, 26,  4, 22, 25, 18, 45, 36,\n",
       "        7, 16,  2, 44, 11, 49, 17, 10, 19,  9,  5, 29,  1, 41, 27,  8, 34,\n",
       "       48,  0, 53, 28, 50, 12, 43, 32, 38, 35, 30, 14, 42, 13, 39, 47, 21,\n",
       "       40, 31, 33,  3, 37, 46])"
      ]
     },
     "execution_count": 353,
     "metadata": {},
     "output_type": "execute_result"
    }
   ],
   "source": [
    "np.flip(np.argsort(clf.feature_importances_))"
   ]
  },
  {
   "cell_type": "code",
   "execution_count": 354,
   "id": "882f4dc2",
   "metadata": {},
   "outputs": [
    {
     "data": {
      "text/plain": [
       "Text(0.5, 0, 'Importance')"
      ]
     },
     "execution_count": 354,
     "metadata": {},
     "output_type": "execute_result"
    },
    {
     "data": {
      "image/png": "[encoded data removed]",
      "text/plain": [
       "<Figure size 1440x936 with 1 Axes>"
      ]
     },
     "metadata": {},
     "output_type": "display_data"
    }
   ],
   "source": [
    "plt.barh(np.flip(np.argsort(clf.feature_importances_)), np.flip(np.sort(clf.feature_importances_)))\n",
    "plt.gcf().set_size_inches(20, 13)\n",
    "plt.ylabel('Feature')\n",
    "plt.xlabel('Importance')"
   ]
  },
  {
   "cell_type": "markdown",
   "id": "8592bc91",
   "metadata": {},
   "source": [
    "## Problem 3"
   ]
  },
  {
   "cell_type": "code",
   "execution_count": 355,
   "id": "23a83ef4",
   "metadata": {},
   "outputs": [],
   "source": [
    "T = [10, 50, 100, 500]\n",
    "df = pd.DataFrame(columns=['Data', 'Classifiers', 'Accuracy', 'F1 score', 'AUC'])\n",
    "\n",
    "for num_classifiers in T:\n",
    "    clf = AdaBoostClassifier(n_estimators=num_classifiers, random_state=0)\n",
    "    clf = clf.fit(X_train, y_train)\n",
    "    \n",
    "    y_train_pred = clf.predict(X_train)\n",
    "    y_test_pred = clf.predict(X_test)\n",
    "    \n",
    "    acc, _, _, f1, auc = four_metrics_auc(y_train, y_train_pred)\n",
    "    df_new_row = pd.DataFrame.from_records([{'Data': 'Train', 'Classifiers': num_classifiers, 'Accuracy': acc, 'F1 score': f1, 'AUC': auc}])\n",
    "    df = pd.concat([df, df_new_row], sort=False, ignore_index=True)\n",
    "    \n",
    "    acc, _, _, f1, auc = four_metrics_auc(y_test, y_test_pred)\n",
    "    df_new_row = pd.DataFrame.from_records([{'Data': 'Test', 'Classifiers': num_classifiers, 'Accuracy': acc, 'F1 score': f1, 'AUC': auc}])\n",
    "    df = pd.concat([df, df_new_row], sort=False, ignore_index=True)\n",
    "    \n",
    "    "
   ]
  },
  {
   "cell_type": "code",
   "execution_count": 356,
   "id": "14851a7d",
   "metadata": {},
   "outputs": [
    {
     "data": {
      "text/html": [
       "<div>\n",
       "<style scoped>\n",
       "    .dataframe tbody tr th:only-of-type {\n",
       "        vertical-align: middle;\n",
       "    }\n",
       "\n",
       "    .dataframe tbody tr th {\n",
       "        vertical-align: top;\n",
       "    }\n",
       "\n",
       "    .dataframe thead th {\n",
       "        text-align: right;\n",
       "    }\n",
       "</style>\n",
       "<table border=\"1\" class=\"dataframe\">\n",
       "  <thead>\n",
       "    <tr style=\"text-align: right;\">\n",
       "      <th></th>\n",
       "      <th>Data</th>\n",
       "      <th>Classifiers</th>\n",
       "      <th>Accuracy</th>\n",
       "      <th>F1 score</th>\n",
       "      <th>AUC</th>\n",
       "    </tr>\n",
       "  </thead>\n",
       "  <tbody>\n",
       "    <tr>\n",
       "      <th>0</th>\n",
       "      <td>Train</td>\n",
       "      <td>10</td>\n",
       "      <td>0.923768</td>\n",
       "      <td>0.900190</td>\n",
       "      <td>0.916920</td>\n",
       "    </tr>\n",
       "    <tr>\n",
       "      <th>1</th>\n",
       "      <td>Test</td>\n",
       "      <td>10</td>\n",
       "      <td>0.922676</td>\n",
       "      <td>0.902944</td>\n",
       "      <td>0.915079</td>\n",
       "    </tr>\n",
       "    <tr>\n",
       "      <th>2</th>\n",
       "      <td>Train</td>\n",
       "      <td>50</td>\n",
       "      <td>0.946667</td>\n",
       "      <td>0.930775</td>\n",
       "      <td>0.942607</td>\n",
       "    </tr>\n",
       "    <tr>\n",
       "      <th>3</th>\n",
       "      <td>Test</td>\n",
       "      <td>50</td>\n",
       "      <td>0.934839</td>\n",
       "      <td>0.919614</td>\n",
       "      <td>0.930129</td>\n",
       "    </tr>\n",
       "    <tr>\n",
       "      <th>4</th>\n",
       "      <td>Train</td>\n",
       "      <td>100</td>\n",
       "      <td>0.957391</td>\n",
       "      <td>0.944799</td>\n",
       "      <td>0.954243</td>\n",
       "    </tr>\n",
       "    <tr>\n",
       "      <th>5</th>\n",
       "      <td>Test</td>\n",
       "      <td>100</td>\n",
       "      <td>0.943527</td>\n",
       "      <td>0.931217</td>\n",
       "      <td>0.940969</td>\n",
       "    </tr>\n",
       "    <tr>\n",
       "      <th>6</th>\n",
       "      <td>Train</td>\n",
       "      <td>500</td>\n",
       "      <td>0.989855</td>\n",
       "      <td>0.986896</td>\n",
       "      <td>0.988975</td>\n",
       "    </tr>\n",
       "    <tr>\n",
       "      <th>7</th>\n",
       "      <td>Test</td>\n",
       "      <td>500</td>\n",
       "      <td>0.937446</td>\n",
       "      <td>0.924211</td>\n",
       "      <td>0.935478</td>\n",
       "    </tr>\n",
       "  </tbody>\n",
       "</table>\n",
       "</div>"
      ],
      "text/plain": [
       "    Data Classifiers  Accuracy  F1 score       AUC\n",
       "0  Train          10  0.923768  0.900190  0.916920\n",
       "1   Test          10  0.922676  0.902944  0.915079\n",
       "2  Train          50  0.946667  0.930775  0.942607\n",
       "3   Test          50  0.934839  0.919614  0.930129\n",
       "4  Train         100  0.957391  0.944799  0.954243\n",
       "5   Test         100  0.943527  0.931217  0.940969\n",
       "6  Train         500  0.989855  0.986896  0.988975\n",
       "7   Test         500  0.937446  0.924211  0.935478"
      ]
     },
     "execution_count": 356,
     "metadata": {},
     "output_type": "execute_result"
    }
   ],
   "source": [
    "df"
   ]
  },
  {
   "cell_type": "code",
   "execution_count": 357,
   "id": "62ac6de7",
   "metadata": {},
   "outputs": [],
   "source": [
    "clf_dt = DecisionTreeClassifier(random_state=0, criterion='entropy')\n",
    "clf_rf = RandomForestClassifier(n_estimators=100, max_depth=None, criterion='entropy', random_state=0)\n",
    "clf_ab = AdaBoostClassifier(n_estimators=100, random_state=0)\n",
    "\n",
    "clf_dt = clf_dt.fit(X_train, y_train)\n",
    "clf_rf = clf_rf.fit(X_train, y_train)\n",
    "clf_ab = clf_ab.fit(X_train, y_train)"
   ]
  },
  {
   "cell_type": "code",
   "execution_count": 358,
   "id": "fc60a120",
   "metadata": {},
   "outputs": [
    {
     "data": {
      "text/plain": [
       "Text(0.5, 1.0, 'AdaBoost ROC')"
      ]
     },
     "execution_count": 358,
     "metadata": {},
     "output_type": "execute_result"
    },
    {
     "data": {
      "image/png": "[encoded data removed]",
      "text/plain": [
       "<Figure size 432x288 with 1 Axes>"
      ]
     },
     "metadata": {},
     "output_type": "display_data"
    },
    {
     "data": {
      "image/png": "[encoded data removed]",
      "text/plain": [
       "<Figure size 432x288 with 1 Axes>"
      ]
     },
     "metadata": {},
     "output_type": "display_data"
    },
    {
     "data": {
      "image/png": "[encoded data removed]",
      "text/plain": [
       "<Figure size 432x288 with 1 Axes>"
      ]
     },
     "metadata": {},
     "output_type": "display_data"
    }
   ],
   "source": [
    "metrics.plot_roc_curve(clf_dt, X_test, y_test) \n",
    "plt.title('Decision Tree ROC')\n",
    "\n",
    "metrics.plot_roc_curve(clf_rf, X_test, y_test) \n",
    "plt.title('Random Forest ROC')\n",
    "\n",
    "metrics.plot_roc_curve(clf_ab, X_test, y_test) \n",
    "plt.title('AdaBoost ROC')"
   ]
  },
  {
   "cell_type": "markdown",
   "id": "e290e3db",
   "metadata": {},
   "source": [
    "## Problem 4 "
   ]
  },
  {
   "cell_type": "code",
   "execution_count": 359,
   "id": "c965cad0",
   "metadata": {},
   "outputs": [],
   "source": [
    "with open('mushroom/agaricus-lepiota.data') as f:\n",
    "    raw_data = f.readlines()"
   ]
  },
  {
   "cell_type": "code",
   "execution_count": 360,
   "id": "fc716d19",
   "metadata": {},
   "outputs": [],
   "source": [
    "data_arr = np.array([row.strip('\\n').split(',') for row in raw_data])"
   ]
  },
  {
   "cell_type": "code",
   "execution_count": 361,
   "id": "6000104c",
   "metadata": {
    "scrolled": true
   },
   "outputs": [],
   "source": [
    "X = data_arr[:,1:]\n",
    "y = data_arr[:,0]"
   ]
  },
  {
   "cell_type": "code",
   "execution_count": 362,
   "id": "8fe32150",
   "metadata": {},
   "outputs": [],
   "source": [
    "X_train, X_test, y_train, y_test = train_test_split(X, y, test_size=0.25, random_state=42)"
   ]
  },
  {
   "cell_type": "code",
   "execution_count": 363,
   "id": "6f51a13f",
   "metadata": {},
   "outputs": [],
   "source": [
    "#classifier\n",
    "class NaiveBayesClassifier:\n",
    "    #params: training data, training labels\n",
    "    def __init__(self, X_train, y_train):\n",
    "        \n",
    "        #get classes and counts of classes \n",
    "        classes, counts = np.unique(y_train, return_counts=True)\n",
    "        \n",
    "        #store classes\n",
    "        self.classes = classes\n",
    "        \n",
    "        #store priors\n",
    "        self.priors = []\n",
    "        \n",
    "        #for each label, calculate prior and store in self.priors\n",
    "        for i, label in enumerate(classes):\n",
    "            label_prior = counts[i]/sum(counts)\n",
    "            self.priors.append(label_prior)\n",
    "            \n",
    "        #store conditional probabilities for each label\n",
    "        self.conditionals = dict()\n",
    "        \n",
    "        #for each label\n",
    "        for label in self.classes:\n",
    "            #track the current label's conditional probabilities\n",
    "            label_conditionals = []\n",
    "            \n",
    "            #for each feature\n",
    "            for feature in range(X_train.shape[-1]):\n",
    "                \n",
    "                #get current feature value from all samples\n",
    "                samples = X_train[:, feature]\n",
    "                \n",
    "                #get attributes of current feature\n",
    "                attributes = np.unique(samples)\n",
    "                \n",
    "                #get samples that have the current label\n",
    "                label_samples = [sample for i, sample in enumerate(samples) if y_train[i] == label]\n",
    "                \n",
    "                #get count for each attribute of current feature\n",
    "                attribute_counts = []\n",
    "                for attribute in attributes:\n",
    "                    attribute_counts.append(label_samples.count(attribute))\n",
    "        \n",
    "                #track conditional probabilities for current feature\n",
    "                label_feature_dict = dict()\n",
    "                \n",
    "                #for each attribute, calculate conditional probability, use Laplace smoothing\n",
    "                for i, attribute in enumerate(attributes):\n",
    "                    label_feature_dict[attribute] = (attribute_counts[i] + 1)/(sum(attribute_counts) + len(attributes))\n",
    "                \n",
    "                #store conditional probabilities for current feature\n",
    "                label_conditionals.append(label_feature_dict)\n",
    "            \n",
    "            #store conditional probabilities for current label\n",
    "            self.conditionals[label] = label_conditionals\n",
    "            \n",
    "    def predict_one(self, x_test, output_probs=False):\n",
    "        \n",
    "        #track probabilities of label given testing data\n",
    "        probs = []\n",
    "        \n",
    "        #for each label\n",
    "        for label_idx, label in enumerate(self.classes):\n",
    "            \n",
    "            #get prior\n",
    "            prob = self.priors[label_idx]\n",
    "            \n",
    "            #for each feature\n",
    "            for feature_idx, attribute in enumerate(x_test):\n",
    "                \n",
    "                #multiply by conditional\n",
    "                prob *= self.conditionals[label][feature_idx][attribute]\n",
    "            \n",
    "            #store probability of current label given testing data\n",
    "            probs.append(prob)\n",
    "        \n",
    "        #return class k that maximizes prob or just the probabilities\n",
    "        return probs if output_probs else self.classes[np.argmax(np.array(probs))]\n",
    "    \n",
    "    def predict(self, X_test, output_probs=False):\n",
    "        predictions = []\n",
    "        \n",
    "        #for every testing sample\n",
    "        for x_test in X_test:\n",
    "            if output_probs:\n",
    "                predictions.append(self.predict_one(x_test, output_probs=True))\n",
    "            else:\n",
    "                predictions.append(self.predict_one(x_test))\n",
    "            \n",
    "        return np.array(predictions)\n",
    "                "
   ]
  },
  {
   "cell_type": "code",
   "execution_count": 364,
   "id": "cf412517",
   "metadata": {},
   "outputs": [],
   "source": [
    "clf = NaiveBayesClassifier(X_train, y_train)"
   ]
  },
  {
   "cell_type": "code",
   "execution_count": 365,
   "id": "f1acacad",
   "metadata": {},
   "outputs": [
    {
     "data": {
      "text/plain": [
       "array([[2.14385322e-09, 1.54054719e-14],\n",
       "       [7.24757595e-18, 3.87359380e-08],\n",
       "       [4.38518866e-18, 4.88793955e-07],\n",
       "       ...,\n",
       "       [7.44143337e-09, 7.28526888e-17],\n",
       "       [1.40249140e-11, 2.50197435e-18],\n",
       "       [7.45607702e-18, 1.80972477e-07]])"
      ]
     },
     "execution_count": 365,
     "metadata": {},
     "output_type": "execute_result"
    }
   ],
   "source": [
    "clf.predict(X_test, output_probs=True)"
   ]
  },
  {
   "cell_type": "code",
   "execution_count": 366,
   "id": "ba493d6f",
   "metadata": {},
   "outputs": [],
   "source": [
    "def four_metrics(y_true, y_pred):\n",
    "    tn, fp, fn, tp = confusion_matrix(y_true, y_pred).ravel()\n",
    "    acc = (tp + tn)/(tn+fp+fn+tp)\n",
    "    precision = tp/(tp + fp)\n",
    "    recall = tp/(tp + fn)\n",
    "    f1 = (2 * precision * recall)/(precision + recall)\n",
    "    \n",
    "    return acc, precision, recall, f1"
   ]
  },
  {
   "cell_type": "code",
   "execution_count": 367,
   "id": "f1a323f7",
   "metadata": {
    "scrolled": true
   },
   "outputs": [
    {
     "name": "stdout",
     "output_type": "stream",
     "text": [
      "Accuracy: 0.9487936976858691\n",
      "Precision: 0.9900552486187846\n",
      "Recall: 0.9041372351160444\n",
      "F1 score: 0.9451476793248945\n"
     ]
    }
   ],
   "source": [
    "acc, precision, recall, f1 = four_metrics(y_test, clf.predict(X_test))\n",
    "print(f'Accuracy: {acc}\\nPrecision: {precision}\\nRecall: {recall}\\nF1 score: {f1}')"
   ]
  },
  {
   "cell_type": "code",
   "execution_count": 368,
   "id": "5ef77bec",
   "metadata": {},
   "outputs": [],
   "source": [
    "ohe = OneHotEncoder(handle_unknown='ignore')\n",
    "ohe.fit(X_train)\n",
    "ohe.fit(X_test)\n",
    "X_train_ohe = ohe.transform(X_train).toarray()\n",
    "X_test_ohe = ohe.transform(X_test).toarray()"
   ]
  },
  {
   "cell_type": "code",
   "execution_count": 369,
   "id": "3e6155ab",
   "metadata": {},
   "outputs": [],
   "source": [
    "clf = CategoricalNB()\n",
    "clf = clf.fit(X_train_ohe, y_train)\n",
    "y_pred = clf.predict(X_test_ohe)"
   ]
  },
  {
   "cell_type": "code",
   "execution_count": 370,
   "id": "3d688365",
   "metadata": {},
   "outputs": [
    {
     "name": "stdout",
     "output_type": "stream",
     "text": [
      "Accuracy: 0.9369768586903003\n",
      "Precision: 0.982122905027933\n",
      "Recall: 0.8869828456104945\n",
      "F1 score: 0.9321314952279959\n"
     ]
    }
   ],
   "source": [
    "acc, precision, recall, f1 = four_metrics(y_test, clf.predict(X_test_ohe))\n",
    "print(f'Accuracy: {acc}\\nPrecision: {precision}\\nRecall: {recall}\\nF1 score: {f1}')"
   ]
  },
  {
   "cell_type": "code",
   "execution_count": null,
   "id": "6a4d70bb",
   "metadata": {},
   "outputs": [],
   "source": []
  }
 ],
 "metadata": {
  "kernelspec": {
   "display_name": "Python 3 (ipykernel)",
   "language": "python",
   "name": "python3"
  },
  "language_info": {
   "codemirror_mode": {
    "name": "ipython",
    "version": 3
   },
   "file_extension": ".py",
   "mimetype": "text/x-python",
   "name": "python",
   "nbconvert_exporter": "python",
   "pygments_lexer": "ipython3",
   "version": "3.9.7"
  }
 },
 "nbformat": 4,
 "nbformat_minor": 5
}
