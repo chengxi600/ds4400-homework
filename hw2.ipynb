{
 "cells": [
  {
   "cell_type": "markdown",
   "id": "d8816955",
   "metadata": {},
   "source": [
    "## Problem 2"
   ]
  },
  {
   "cell_type": "code",
   "execution_count": 1,
   "id": "342a810d",
   "metadata": {},
   "outputs": [],
   "source": [
    "import numpy as np\n",
    "from sklearn.linear_model import LinearRegression\n",
    "from sklearn.metrics import mean_squared_error, r2_score\n",
    "from sklearn.preprocessing import StandardScaler, PolynomialFeatures\n",
    "import pandas as pd"
   ]
  },
  {
   "cell_type": "markdown",
   "id": "79558711",
   "metadata": {},
   "source": [
    "Preprocessing Data:"
   ]
  },
  {
   "cell_type": "code",
   "execution_count": 2,
   "id": "703e9dbb",
   "metadata": {},
   "outputs": [],
   "source": [
    "df_data = pd.read_csv('train.csv')\n",
    "df_dropped = df_data.drop(['zipcode', 'price'], axis=1)\n",
    "df_dropped = df_dropped.iloc[:, 1:]\n",
    "train_x = np.array(df_dropped.values)\n",
    "train_y = np.array(df_data['price'].values)"
   ]
  },
  {
   "cell_type": "code",
   "execution_count": 3,
   "id": "ee208a1a",
   "metadata": {},
   "outputs": [],
   "source": [
    "df_data = pd.read_csv('test.csv')\n",
    "df_dropped = df_data.drop(['zipcode', 'price', 'id', 'date'], axis=1)\n",
    "df_dropped = df_dropped.iloc[:, 1:]\n",
    "test_x = np.array(df_dropped.values)\n",
    "test_y = np.array(df_data['price'].values)"
   ]
  },
  {
   "cell_type": "code",
   "execution_count": 4,
   "id": "4e032612",
   "metadata": {},
   "outputs": [],
   "source": [
    "scaler = StandardScaler()\n",
    "scaler.fit(train_x)\n",
    "train_x = scaler.transform(train_x)\n",
    "\n",
    "scaler = StandardScaler()\n",
    "scaler.fit(test_x)\n",
    "test_x = scaler.transform(test_x)"
   ]
  },
  {
   "cell_type": "code",
   "execution_count": 5,
   "id": "12f690b9",
   "metadata": {},
   "outputs": [],
   "source": [
    "train_y /= 1000\n",
    "test_y /= 1000"
   ]
  },
  {
   "cell_type": "markdown",
   "id": "22450e0b",
   "metadata": {},
   "source": [
    "Fitting on model:"
   ]
  },
  {
   "cell_type": "code",
   "execution_count": 6,
   "id": "77c8aa9a",
   "metadata": {},
   "outputs": [],
   "source": [
    "reg = LinearRegression().fit(train_x, train_y)"
   ]
  },
  {
   "cell_type": "markdown",
   "id": "4e363395",
   "metadata": {},
   "source": [
    "Coefficients:"
   ]
  },
  {
   "cell_type": "code",
   "execution_count": 7,
   "id": "033f5ee2",
   "metadata": {},
   "outputs": [
    {
     "data": {
      "text/plain": [
       "520.414834000001"
      ]
     },
     "execution_count": 7,
     "metadata": {},
     "output_type": "execute_result"
    }
   ],
   "source": [
    "reg.intercept_"
   ]
  },
  {
   "cell_type": "code",
   "execution_count": 8,
   "id": "e555ccc4",
   "metadata": {
    "scrolled": true
   },
   "outputs": [
    {
     "data": {
      "text/plain": [
       "array([-12.52196187,  18.52763251,  56.7488368 ,  10.88186845,\n",
       "         8.04372084,  63.74289956,  48.20010852,  12.96426936,\n",
       "        92.23147482,  48.29008886,  27.13703247, -67.64311741,\n",
       "        17.27137953,  78.37573693,  -1.03520308,  45.57765781,\n",
       "       -12.93009098])"
      ]
     },
     "execution_count": 8,
     "metadata": {},
     "output_type": "execute_result"
    }
   ],
   "source": [
    "reg.coef_"
   ]
  },
  {
   "cell_type": "markdown",
   "id": "146634f9",
   "metadata": {},
   "source": [
    "Training R^2:"
   ]
  },
  {
   "cell_type": "code",
   "execution_count": 9,
   "id": "338c50a3",
   "metadata": {
    "scrolled": false
   },
   "outputs": [
    {
     "data": {
      "text/plain": [
       "0.7265334318706018"
      ]
     },
     "execution_count": 9,
     "metadata": {},
     "output_type": "execute_result"
    }
   ],
   "source": [
    "reg.score(train_x, train_y)"
   ]
  },
  {
   "cell_type": "code",
   "execution_count": 10,
   "id": "c12b39e8",
   "metadata": {},
   "outputs": [],
   "source": [
    "train_y_pred = reg.predict(train_x)"
   ]
  },
  {
   "cell_type": "markdown",
   "id": "01c955ab",
   "metadata": {},
   "source": [
    "Training MSE:"
   ]
  },
  {
   "cell_type": "code",
   "execution_count": 11,
   "id": "967a8174",
   "metadata": {},
   "outputs": [
    {
     "data": {
      "text/plain": [
       "31486.167775794882"
      ]
     },
     "execution_count": 11,
     "metadata": {},
     "output_type": "execute_result"
    }
   ],
   "source": [
    "mean_squared_error(train_y, train_y_pred)"
   ]
  },
  {
   "cell_type": "markdown",
   "id": "6c147461",
   "metadata": {},
   "source": [
    "Testing R^2:"
   ]
  },
  {
   "cell_type": "code",
   "execution_count": 12,
   "id": "e80f0d50",
   "metadata": {},
   "outputs": [
    {
     "data": {
      "text/plain": [
       "0.6414235000248596"
      ]
     },
     "execution_count": 12,
     "metadata": {},
     "output_type": "execute_result"
    }
   ],
   "source": [
    "reg.score(test_x, test_y)"
   ]
  },
  {
   "cell_type": "markdown",
   "id": "6c757159",
   "metadata": {},
   "source": [
    "Testing MSE:"
   ]
  },
  {
   "cell_type": "code",
   "execution_count": 13,
   "id": "9a154b46",
   "metadata": {
    "scrolled": true
   },
   "outputs": [
    {
     "data": {
      "text/plain": [
       "59784.3655675167"
      ]
     },
     "execution_count": 13,
     "metadata": {},
     "output_type": "execute_result"
    }
   ],
   "source": [
    "test_y_pred = reg.predict(test_x)\n",
    "mean_squared_error(test_y, test_y_pred)"
   ]
  },
  {
   "cell_type": "markdown",
   "id": "d4f89a01",
   "metadata": {},
   "source": [
    "## Problem 3"
   ]
  },
  {
   "cell_type": "markdown",
   "id": "73513d2d",
   "metadata": {},
   "source": [
    "Insert bias term:"
   ]
  },
  {
   "cell_type": "code",
   "execution_count": 14,
   "id": "f484675b",
   "metadata": {},
   "outputs": [],
   "source": [
    "train_x_bias = np.insert(train_x, 0, 1, axis=1)\n",
    "test_x_bias = np.insert(test_x, 0, 1, axis=1)"
   ]
  },
  {
   "cell_type": "markdown",
   "id": "245c4f60",
   "metadata": {},
   "source": [
    "Calculate parameters with closed form:"
   ]
  },
  {
   "cell_type": "code",
   "execution_count": 15,
   "id": "15827a72",
   "metadata": {
    "scrolled": true
   },
   "outputs": [],
   "source": [
    "closed_form_params = np.matmul(np.linalg.pinv(np.matmul(train_x_bias.T, train_x_bias)), np.matmul(train_x_bias.T, train_y))"
   ]
  },
  {
   "cell_type": "code",
   "execution_count": 16,
   "id": "52cc7f95",
   "metadata": {
    "scrolled": false
   },
   "outputs": [
    {
     "data": {
      "text/plain": [
       "array([520.414834  , -12.52196187,  18.52763251,  56.7488368 ,\n",
       "        10.88186845,   8.04372084,  63.74289956,  48.20010852,\n",
       "        12.96426936,  92.23147482,  48.29008886,  27.13703247,\n",
       "       -67.64311741,  17.27137953,  78.37573693,  -1.03520308,\n",
       "        45.57765781, -12.93009098])"
      ]
     },
     "execution_count": 16,
     "metadata": {},
     "output_type": "execute_result"
    }
   ],
   "source": [
    "closed_form_params"
   ]
  },
  {
   "cell_type": "markdown",
   "id": "e9e1674d",
   "metadata": {},
   "source": [
    "Training MSE:"
   ]
  },
  {
   "cell_type": "code",
   "execution_count": 17,
   "id": "123db26a",
   "metadata": {},
   "outputs": [],
   "source": [
    "train_y_pred = np.array([sum(closed_form_params * x) for x in train_x_bias]).reshape(-1, 1)"
   ]
  },
  {
   "cell_type": "code",
   "execution_count": 18,
   "id": "d7878e9f",
   "metadata": {},
   "outputs": [
    {
     "data": {
      "text/plain": [
       "31486.167775794875"
      ]
     },
     "execution_count": 18,
     "metadata": {},
     "output_type": "execute_result"
    }
   ],
   "source": [
    "mean_squared_error(train_y, train_y_pred)"
   ]
  },
  {
   "cell_type": "markdown",
   "id": "6268a6f0",
   "metadata": {},
   "source": [
    "Training R^2:"
   ]
  },
  {
   "cell_type": "code",
   "execution_count": 19,
   "id": "6141fde1",
   "metadata": {
    "scrolled": true
   },
   "outputs": [
    {
     "data": {
      "text/plain": [
       "0.7265334318706018"
      ]
     },
     "execution_count": 19,
     "metadata": {},
     "output_type": "execute_result"
    }
   ],
   "source": [
    "r2_score(train_y, train_y_pred)"
   ]
  },
  {
   "cell_type": "markdown",
   "id": "858c1ed1",
   "metadata": {},
   "source": [
    "Testing MSE:"
   ]
  },
  {
   "cell_type": "code",
   "execution_count": 20,
   "id": "5fb8baae",
   "metadata": {},
   "outputs": [],
   "source": [
    "test_y_pred = np.array([sum(closed_form_params * x) for x in test_x_bias]).reshape(-1, 1)"
   ]
  },
  {
   "cell_type": "code",
   "execution_count": 21,
   "id": "210ccef4",
   "metadata": {},
   "outputs": [
    {
     "data": {
      "text/plain": [
       "59784.36556751629"
      ]
     },
     "execution_count": 21,
     "metadata": {},
     "output_type": "execute_result"
    }
   ],
   "source": [
    "mean_squared_error(test_y, test_y_pred)"
   ]
  },
  {
   "cell_type": "markdown",
   "id": "c898131a",
   "metadata": {},
   "source": [
    "Testing R^2:"
   ]
  },
  {
   "cell_type": "code",
   "execution_count": 22,
   "id": "0dad7b18",
   "metadata": {
    "scrolled": true
   },
   "outputs": [
    {
     "data": {
      "text/plain": [
       "0.641423500024862"
      ]
     },
     "execution_count": 22,
     "metadata": {},
     "output_type": "execute_result"
    }
   ],
   "source": [
    "r2_score(test_y, test_y_pred)"
   ]
  },
  {
   "cell_type": "markdown",
   "id": "71e64888",
   "metadata": {},
   "source": [
    "## Problem 4"
   ]
  },
  {
   "cell_type": "markdown",
   "id": "adfe4d44",
   "metadata": {},
   "source": [
    "Predict polynomial:"
   ]
  },
  {
   "cell_type": "code",
   "execution_count": 23,
   "id": "a649d009",
   "metadata": {},
   "outputs": [],
   "source": [
    "def predict_poly(features: np.array, predict_features: np.array, y: np.array, p: int) -> float:\n",
    "    poly = PolynomialFeatures(p)\n",
    "    poly_feature_x = poly.fit_transform(features.reshape(-1, 1))\n",
    "    poly_predict_features = poly.fit_transform(predict_features.reshape(-1, 1))\n",
    "    \n",
    "    parameters = np.matmul(np.linalg.pinv(np.matmul(poly_feature_x.T, poly_feature_x)), np.matmul(poly_feature_x.T, y))\n",
    "    \n",
    "    return np.sum(poly_predict_features * parameters, axis=1)\n",
    "    "
   ]
  },
  {
   "cell_type": "code",
   "execution_count": 24,
   "id": "aa4d1451",
   "metadata": {},
   "outputs": [],
   "source": [
    "#get sqft_living \n",
    "sqft_living_feature = train_x[:,2]"
   ]
  },
  {
   "cell_type": "code",
   "execution_count": 25,
   "id": "20276321",
   "metadata": {},
   "outputs": [],
   "source": [
    "df = pd.DataFrame(columns=['data', 'p', 'mse', 'r2'])"
   ]
  },
  {
   "cell_type": "code",
   "execution_count": 26,
   "id": "027ca9e4",
   "metadata": {
    "scrolled": true
   },
   "outputs": [],
   "source": [
    "for p in range(1, 6):\n",
    "    train_y_pred_poly = predict_poly(train_x[:,2], train_x[:, 2], train_y, p)\n",
    "    mse = mean_squared_error(train_y, train_y_pred_poly)\n",
    "    r2 = r2_score(train_y, train_y_pred_poly)\n",
    "    df_new_row = pd.DataFrame.from_records([{'data':'train', 'p': p, 'mse': mse, 'r2': r2}])\n",
    "    df = pd.concat([df, df_new_row], sort=False, ignore_index=True)"
   ]
  },
  {
   "cell_type": "code",
   "execution_count": 27,
   "id": "d3891ef1",
   "metadata": {},
   "outputs": [],
   "source": [
    "for p in range(1, 6):\n",
    "    test_y_pred_poly = predict_poly(train_x[:,2], test_x[:,2], test_y, p)\n",
    "    mse = mean_squared_error(test_y, test_y_pred_poly)\n",
    "    r2 = r2_score(test_y, test_y_pred_poly)\n",
    "    df_new_row = pd.DataFrame.from_records([{'data':'test', 'p': p, 'mse': mse, 'r2': r2}])\n",
    "    df = pd.concat([df, df_new_row], sort=False, ignore_index=True)"
   ]
  },
  {
   "cell_type": "code",
   "execution_count": 28,
   "id": "bc734ebb",
   "metadata": {},
   "outputs": [
    {
     "data": {
      "text/html": [
       "<div>\n",
       "<style scoped>\n",
       "    .dataframe tbody tr th:only-of-type {\n",
       "        vertical-align: middle;\n",
       "    }\n",
       "\n",
       "    .dataframe tbody tr th {\n",
       "        vertical-align: top;\n",
       "    }\n",
       "\n",
       "    .dataframe thead th {\n",
       "        text-align: right;\n",
       "    }\n",
       "</style>\n",
       "<table border=\"1\" class=\"dataframe\">\n",
       "  <thead>\n",
       "    <tr style=\"text-align: right;\">\n",
       "      <th></th>\n",
       "      <th>data</th>\n",
       "      <th>p</th>\n",
       "      <th>mse</th>\n",
       "      <th>r2</th>\n",
       "    </tr>\n",
       "  </thead>\n",
       "  <tbody>\n",
       "    <tr>\n",
       "      <th>0</th>\n",
       "      <td>train</td>\n",
       "      <td>1</td>\n",
       "      <td>57947.526161</td>\n",
       "      <td>0.496709</td>\n",
       "    </tr>\n",
       "    <tr>\n",
       "      <th>1</th>\n",
       "      <td>train</td>\n",
       "      <td>2</td>\n",
       "      <td>54822.665116</td>\n",
       "      <td>0.523849</td>\n",
       "    </tr>\n",
       "    <tr>\n",
       "      <th>2</th>\n",
       "      <td>train</td>\n",
       "      <td>3</td>\n",
       "      <td>53785.194716</td>\n",
       "      <td>0.53286</td>\n",
       "    </tr>\n",
       "    <tr>\n",
       "      <th>3</th>\n",
       "      <td>train</td>\n",
       "      <td>4</td>\n",
       "      <td>52795.774758</td>\n",
       "      <td>0.541453</td>\n",
       "    </tr>\n",
       "    <tr>\n",
       "      <th>4</th>\n",
       "      <td>train</td>\n",
       "      <td>5</td>\n",
       "      <td>52626.111955</td>\n",
       "      <td>0.542927</td>\n",
       "    </tr>\n",
       "    <tr>\n",
       "      <th>5</th>\n",
       "      <td>test</td>\n",
       "      <td>1</td>\n",
       "      <td>174142.918463</td>\n",
       "      <td>-0.04448</td>\n",
       "    </tr>\n",
       "    <tr>\n",
       "      <th>6</th>\n",
       "      <td>test</td>\n",
       "      <td>2</td>\n",
       "      <td>181222.889992</td>\n",
       "      <td>-0.086944</td>\n",
       "    </tr>\n",
       "    <tr>\n",
       "      <th>7</th>\n",
       "      <td>test</td>\n",
       "      <td>3</td>\n",
       "      <td>180735.356371</td>\n",
       "      <td>-0.08402</td>\n",
       "    </tr>\n",
       "    <tr>\n",
       "      <th>8</th>\n",
       "      <td>test</td>\n",
       "      <td>4</td>\n",
       "      <td>153144.808508</td>\n",
       "      <td>0.081463</td>\n",
       "    </tr>\n",
       "    <tr>\n",
       "      <th>9</th>\n",
       "      <td>test</td>\n",
       "      <td>5</td>\n",
       "      <td>203858.764038</td>\n",
       "      <td>-0.22271</td>\n",
       "    </tr>\n",
       "  </tbody>\n",
       "</table>\n",
       "</div>"
      ],
      "text/plain": [
       "    data  p            mse        r2\n",
       "0  train  1   57947.526161  0.496709\n",
       "1  train  2   54822.665116  0.523849\n",
       "2  train  3   53785.194716   0.53286\n",
       "3  train  4   52795.774758  0.541453\n",
       "4  train  5   52626.111955  0.542927\n",
       "5   test  1  174142.918463  -0.04448\n",
       "6   test  2  181222.889992 -0.086944\n",
       "7   test  3  180735.356371  -0.08402\n",
       "8   test  4  153144.808508  0.081463\n",
       "9   test  5  203858.764038  -0.22271"
      ]
     },
     "execution_count": 28,
     "metadata": {},
     "output_type": "execute_result"
    }
   ],
   "source": [
    "df"
   ]
  },
  {
   "cell_type": "markdown",
   "id": "cac9de72",
   "metadata": {},
   "source": [
    "## Problem 5"
   ]
  },
  {
   "cell_type": "code",
   "execution_count": 29,
   "id": "9a798dec",
   "metadata": {},
   "outputs": [],
   "source": [
    "def grad_descent(iterations: int, alpha: int, train_x: np.array, train_y: np.array) -> np.array:\n",
    "    \n",
    "    num_features = train_x.shape[1]\n",
    "    num_samples = train_x.shape[0]\n",
    "    params = np.zeros(num_features)\n",
    "    \n",
    "    for iteration in range(iterations):\n",
    "        gradient = grad(params, train_x, train_y, num_features, num_samples)\n",
    "        update = -alpha * gradient\n",
    "        params += update\n",
    "    \n",
    "    return params"
   ]
  },
  {
   "cell_type": "code",
   "execution_count": 30,
   "id": "2ab8e60c",
   "metadata": {},
   "outputs": [],
   "source": [
    "def grad(theta, X, Y, num_features, num_samples):\n",
    "    \n",
    "    gradient = np.zeros(num_features)\n",
    "    \n",
    "    for training_sample, training_response in zip(X, Y):\n",
    "        x_theta = np.matmul(theta.T, training_sample)\n",
    "        gradient += (x_theta - training_response) * training_sample\n",
    "        \n",
    "    gradient *= 2/num_samples\n",
    "    return gradient"
   ]
  },
  {
   "cell_type": "code",
   "execution_count": 31,
   "id": "aaa70634",
   "metadata": {},
   "outputs": [],
   "source": [
    "train_x = np.insert(train_x, 0, 1, axis=1)"
   ]
  },
  {
   "cell_type": "code",
   "execution_count": 32,
   "id": "2bc460ac",
   "metadata": {},
   "outputs": [],
   "source": [
    "lrs = [0.01, 0.1, 0.5]\n",
    "iters = [10, 50, 100]\n",
    "\n",
    "df = pd.DataFrame(columns=['data', 'iter', 'alpha', 'mse', 'r2'])\n",
    "for alpha in lrs:\n",
    "    for num_iter in iters:\n",
    "        \n",
    "        #training \n",
    "        params = grad_descent(num_iter, alpha, train_x, train_y)\n",
    "        train_y_pred = np.sum(params * train_x, axis=1)\n",
    "        mse = mean_squared_error(train_y, train_y_pred)\n",
    "        r2 = r2_score(train_y, train_y_pred)\n",
    "        df_new_row = pd.DataFrame.from_records([{'data':'train', 'iter': num_iter, 'alpha': alpha, 'mse': f'{mse:e}', 'r2': f'{r2:e}'}])\n",
    "        df = pd.concat([df, df_new_row], sort=False, ignore_index=True)\n",
    "        \n",
    "        #testing\n",
    "        params = grad_descent(num_iter, alpha, train_x, train_y)\n",
    "        train_y_pred = np.sum(params * train_x, axis=1)\n",
    "        mse = mean_squared_error(train_y, train_y_pred)\n",
    "        r2 = r2_score(train_y, train_y_pred)\n",
    "        df_new_row = pd.DataFrame.from_records([{'data':'test', 'iter': num_iter, 'alpha': alpha, 'mse': f'{mse:e}', 'r2': f'{r2:e}'}])\n",
    "        df = pd.concat([df, df_new_row], sort=False, ignore_index=True)"
   ]
  },
  {
   "cell_type": "code",
   "execution_count": 33,
   "id": "41c725e1",
   "metadata": {},
   "outputs": [
    {
     "data": {
      "text/html": [
       "<div>\n",
       "<style scoped>\n",
       "    .dataframe tbody tr th:only-of-type {\n",
       "        vertical-align: middle;\n",
       "    }\n",
       "\n",
       "    .dataframe tbody tr th {\n",
       "        vertical-align: top;\n",
       "    }\n",
       "\n",
       "    .dataframe thead th {\n",
       "        text-align: right;\n",
       "    }\n",
       "</style>\n",
       "<table border=\"1\" class=\"dataframe\">\n",
       "  <thead>\n",
       "    <tr style=\"text-align: right;\">\n",
       "      <th></th>\n",
       "      <th>data</th>\n",
       "      <th>iter</th>\n",
       "      <th>alpha</th>\n",
       "      <th>mse</th>\n",
       "      <th>r2</th>\n",
       "    </tr>\n",
       "  </thead>\n",
       "  <tbody>\n",
       "    <tr>\n",
       "      <th>0</th>\n",
       "      <td>train</td>\n",
       "      <td>10</td>\n",
       "      <td>0.01</td>\n",
       "      <td>2.357278e+05</td>\n",
       "      <td>-1.047365e+00</td>\n",
       "    </tr>\n",
       "    <tr>\n",
       "      <th>1</th>\n",
       "      <td>test</td>\n",
       "      <td>10</td>\n",
       "      <td>0.01</td>\n",
       "      <td>2.357278e+05</td>\n",
       "      <td>-1.047365e+00</td>\n",
       "    </tr>\n",
       "    <tr>\n",
       "      <th>2</th>\n",
       "      <td>train</td>\n",
       "      <td>50</td>\n",
       "      <td>0.01</td>\n",
       "      <td>6.972050e+04</td>\n",
       "      <td>3.944571e-01</td>\n",
       "    </tr>\n",
       "    <tr>\n",
       "      <th>3</th>\n",
       "      <td>test</td>\n",
       "      <td>50</td>\n",
       "      <td>0.01</td>\n",
       "      <td>6.972050e+04</td>\n",
       "      <td>3.944571e-01</td>\n",
       "    </tr>\n",
       "    <tr>\n",
       "      <th>4</th>\n",
       "      <td>train</td>\n",
       "      <td>100</td>\n",
       "      <td>0.01</td>\n",
       "      <td>3.682035e+04</td>\n",
       "      <td>6.802045e-01</td>\n",
       "    </tr>\n",
       "    <tr>\n",
       "      <th>5</th>\n",
       "      <td>test</td>\n",
       "      <td>100</td>\n",
       "      <td>0.01</td>\n",
       "      <td>3.682035e+04</td>\n",
       "      <td>6.802045e-01</td>\n",
       "    </tr>\n",
       "    <tr>\n",
       "      <th>6</th>\n",
       "      <td>train</td>\n",
       "      <td>10</td>\n",
       "      <td>0.1</td>\n",
       "      <td>3.510510e+04</td>\n",
       "      <td>6.951019e-01</td>\n",
       "    </tr>\n",
       "    <tr>\n",
       "      <th>7</th>\n",
       "      <td>test</td>\n",
       "      <td>10</td>\n",
       "      <td>0.1</td>\n",
       "      <td>3.510510e+04</td>\n",
       "      <td>6.951019e-01</td>\n",
       "    </tr>\n",
       "    <tr>\n",
       "      <th>8</th>\n",
       "      <td>train</td>\n",
       "      <td>50</td>\n",
       "      <td>0.1</td>\n",
       "      <td>3.149726e+04</td>\n",
       "      <td>7.264371e-01</td>\n",
       "    </tr>\n",
       "    <tr>\n",
       "      <th>9</th>\n",
       "      <td>test</td>\n",
       "      <td>50</td>\n",
       "      <td>0.1</td>\n",
       "      <td>3.149726e+04</td>\n",
       "      <td>7.264371e-01</td>\n",
       "    </tr>\n",
       "    <tr>\n",
       "      <th>10</th>\n",
       "      <td>train</td>\n",
       "      <td>100</td>\n",
       "      <td>0.1</td>\n",
       "      <td>3.148643e+04</td>\n",
       "      <td>7.265311e-01</td>\n",
       "    </tr>\n",
       "    <tr>\n",
       "      <th>11</th>\n",
       "      <td>test</td>\n",
       "      <td>100</td>\n",
       "      <td>0.1</td>\n",
       "      <td>3.148643e+04</td>\n",
       "      <td>7.265311e-01</td>\n",
       "    </tr>\n",
       "    <tr>\n",
       "      <th>12</th>\n",
       "      <td>train</td>\n",
       "      <td>10</td>\n",
       "      <td>0.5</td>\n",
       "      <td>1.456064e+17</td>\n",
       "      <td>-1.264635e+12</td>\n",
       "    </tr>\n",
       "    <tr>\n",
       "      <th>13</th>\n",
       "      <td>test</td>\n",
       "      <td>10</td>\n",
       "      <td>0.5</td>\n",
       "      <td>1.456064e+17</td>\n",
       "      <td>-1.264635e+12</td>\n",
       "    </tr>\n",
       "    <tr>\n",
       "      <th>14</th>\n",
       "      <td>train</td>\n",
       "      <td>50</td>\n",
       "      <td>0.5</td>\n",
       "      <td>1.259542e+67</td>\n",
       "      <td>-1.093949e+62</td>\n",
       "    </tr>\n",
       "    <tr>\n",
       "      <th>15</th>\n",
       "      <td>test</td>\n",
       "      <td>50</td>\n",
       "      <td>0.5</td>\n",
       "      <td>1.259542e+67</td>\n",
       "      <td>-1.093949e+62</td>\n",
       "    </tr>\n",
       "    <tr>\n",
       "      <th>16</th>\n",
       "      <td>train</td>\n",
       "      <td>100</td>\n",
       "      <td>0.5</td>\n",
       "      <td>3.322792e+129</td>\n",
       "      <td>-2.885942e+124</td>\n",
       "    </tr>\n",
       "    <tr>\n",
       "      <th>17</th>\n",
       "      <td>test</td>\n",
       "      <td>100</td>\n",
       "      <td>0.5</td>\n",
       "      <td>3.322792e+129</td>\n",
       "      <td>-2.885942e+124</td>\n",
       "    </tr>\n",
       "  </tbody>\n",
       "</table>\n",
       "</div>"
      ],
      "text/plain": [
       "     data iter alpha            mse              r2\n",
       "0   train   10  0.01   2.357278e+05   -1.047365e+00\n",
       "1    test   10  0.01   2.357278e+05   -1.047365e+00\n",
       "2   train   50  0.01   6.972050e+04    3.944571e-01\n",
       "3    test   50  0.01   6.972050e+04    3.944571e-01\n",
       "4   train  100  0.01   3.682035e+04    6.802045e-01\n",
       "5    test  100  0.01   3.682035e+04    6.802045e-01\n",
       "6   train   10   0.1   3.510510e+04    6.951019e-01\n",
       "7    test   10   0.1   3.510510e+04    6.951019e-01\n",
       "8   train   50   0.1   3.149726e+04    7.264371e-01\n",
       "9    test   50   0.1   3.149726e+04    7.264371e-01\n",
       "10  train  100   0.1   3.148643e+04    7.265311e-01\n",
       "11   test  100   0.1   3.148643e+04    7.265311e-01\n",
       "12  train   10   0.5   1.456064e+17   -1.264635e+12\n",
       "13   test   10   0.5   1.456064e+17   -1.264635e+12\n",
       "14  train   50   0.5   1.259542e+67   -1.093949e+62\n",
       "15   test   50   0.5   1.259542e+67   -1.093949e+62\n",
       "16  train  100   0.5  3.322792e+129  -2.885942e+124\n",
       "17   test  100   0.5  3.322792e+129  -2.885942e+124"
      ]
     },
     "execution_count": 33,
     "metadata": {},
     "output_type": "execute_result"
    }
   ],
   "source": [
    "df"
   ]
  },
  {
   "cell_type": "markdown",
   "id": "b8b0225e",
   "metadata": {},
   "source": [
    "## Problem 6"
   ]
  },
  {
   "cell_type": "code",
   "execution_count": 34,
   "id": "55b959b4",
   "metadata": {},
   "outputs": [],
   "source": [
    "def grad_descent_ridge(iterations: int, alpha: int, lambda_coef: int, train_x: np.array, train_y: np.array) -> np.array:\n",
    "    \n",
    "    num_features = train_x.shape[1]\n",
    "    num_samples = train_x.shape[0]\n",
    "    params = np.zeros(num_features)\n",
    "    \n",
    "    for iteration in range(iterations):\n",
    "        gradient = grad(params, train_x, train_y, num_features, num_samples)\n",
    "        \n",
    "        bias = params[0]\n",
    "        params *= 1 - 2 * alpha * lamb\n",
    "        params[0] = bias\n",
    "        update = -alpha * gradient\n",
    "        params += update\n",
    "    \n",
    "    return params"
   ]
  },
  {
   "cell_type": "code",
   "execution_count": 35,
   "id": "a50ba431",
   "metadata": {},
   "outputs": [],
   "source": [
    "X = np.random.uniform(-2, 2, 1000)\n",
    "e = np.random.normal(0, 2, 1000)\n",
    "Y = 1 + 2*X + e\n",
    "Y = Y.reshape(-1, 1)\n",
    "X = X.reshape(-1, 1)\n",
    "X = np.insert(X, 0, np.ones(1000), axis=1)"
   ]
  },
  {
   "cell_type": "code",
   "execution_count": 36,
   "id": "4007c2e5",
   "metadata": {
    "scrolled": true
   },
   "outputs": [],
   "source": [
    "df = pd.DataFrame(columns=['model', 'lambda', 'slope', 'mse', 'r2'])\n",
    "lambdas = [0.1, 1, 10, 100]\n",
    "for lamb in lambdas:\n",
    "    params = grad_descent_ridge(200, 0.01, lamb, X, Y)\n",
    "    train_y_pred = np.sum(params.T * X, axis=1)\n",
    "    mse = mean_squared_error(Y, train_y_pred)\n",
    "    r2 = r2_score(Y, train_y_pred)\n",
    "    slope = params[1]\n",
    "    df_new_row = pd.DataFrame.from_records([{'model':'ridge', 'lambda': lamb, 'slope': slope, 'mse': mse, 'r2': r2}])\n",
    "    df = pd.concat([df, df_new_row], sort=False, ignore_index=True)\n",
    "    \n",
    "params = grad_descent(200, 0.01, X, Y)\n",
    "train_y_pred = np.sum(params * X, axis=1)\n",
    "mse = mean_squared_error(Y, train_y_pred)\n",
    "r2 = r2_score(Y, train_y_pred)\n",
    "slope = params[1]\n",
    "df_new_row = pd.DataFrame.from_records([{'model':'linear', 'lambda': None, 'slope': slope, 'mse': mse, 'r2': r2}])\n",
    "df = pd.concat([df, df_new_row], sort=False, ignore_index=True)"
   ]
  },
  {
   "cell_type": "code",
   "execution_count": 37,
   "id": "67cb514f",
   "metadata": {},
   "outputs": [
    {
     "data": {
      "text/html": [
       "<div>\n",
       "<style scoped>\n",
       "    .dataframe tbody tr th:only-of-type {\n",
       "        vertical-align: middle;\n",
       "    }\n",
       "\n",
       "    .dataframe tbody tr th {\n",
       "        vertical-align: top;\n",
       "    }\n",
       "\n",
       "    .dataframe thead th {\n",
       "        text-align: right;\n",
       "    }\n",
       "</style>\n",
       "<table border=\"1\" class=\"dataframe\">\n",
       "  <thead>\n",
       "    <tr style=\"text-align: right;\">\n",
       "      <th></th>\n",
       "      <th>model</th>\n",
       "      <th>lambda</th>\n",
       "      <th>slope</th>\n",
       "      <th>mse</th>\n",
       "      <th>r2</th>\n",
       "    </tr>\n",
       "  </thead>\n",
       "  <tbody>\n",
       "    <tr>\n",
       "      <th>0</th>\n",
       "      <td>ridge</td>\n",
       "      <td>0.1</td>\n",
       "      <td>1.816324</td>\n",
       "      <td>4.24256</td>\n",
       "      <td>0.538916</td>\n",
       "    </tr>\n",
       "    <tr>\n",
       "      <th>1</th>\n",
       "      <td>ridge</td>\n",
       "      <td>1</td>\n",
       "      <td>1.107781</td>\n",
       "      <td>5.159925</td>\n",
       "      <td>0.439216</td>\n",
       "    </tr>\n",
       "    <tr>\n",
       "      <th>2</th>\n",
       "      <td>ridge</td>\n",
       "      <td>10</td>\n",
       "      <td>0.225132</td>\n",
       "      <td>8.122721</td>\n",
       "      <td>0.117218</td>\n",
       "    </tr>\n",
       "    <tr>\n",
       "      <th>3</th>\n",
       "      <td>ridge</td>\n",
       "      <td>100</td>\n",
       "      <td>-4.306942</td>\n",
       "      <td>55.200867</td>\n",
       "      <td>-4.999262</td>\n",
       "    </tr>\n",
       "    <tr>\n",
       "      <th>4</th>\n",
       "      <td>linear</td>\n",
       "      <td>None</td>\n",
       "      <td>1.953132</td>\n",
       "      <td>4.215302</td>\n",
       "      <td>0.541879</td>\n",
       "    </tr>\n",
       "  </tbody>\n",
       "</table>\n",
       "</div>"
      ],
      "text/plain": [
       "    model lambda     slope        mse        r2\n",
       "0   ridge    0.1  1.816324    4.24256  0.538916\n",
       "1   ridge      1  1.107781   5.159925  0.439216\n",
       "2   ridge     10  0.225132   8.122721  0.117218\n",
       "3   ridge    100 -4.306942  55.200867 -4.999262\n",
       "4  linear   None  1.953132   4.215302  0.541879"
      ]
     },
     "execution_count": 37,
     "metadata": {},
     "output_type": "execute_result"
    }
   ],
   "source": [
    "df"
   ]
  }
 ],
 "metadata": {
  "kernelspec": {
   "display_name": "Python 3 (ipykernel)",
   "language": "python",
   "name": "python3"
  },
  "language_info": {
   "codemirror_mode": {
    "name": "ipython",
    "version": 3
   },
   "file_extension": ".py",
   "mimetype": "text/x-python",
   "name": "python",
   "nbconvert_exporter": "python",
   "pygments_lexer": "ipython3",
   "version": "3.9.7"
  }
 },
 "nbformat": 4,
 "nbformat_minor": 5
}
